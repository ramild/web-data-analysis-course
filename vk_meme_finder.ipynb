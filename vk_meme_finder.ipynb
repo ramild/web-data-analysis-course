{
 "cells": [
  {
   "cell_type": "code",
   "execution_count": 1,
   "id": "c48b6d26-c519-4717-84b5-c8053329cac0",
   "metadata": {},
   "outputs": [],
   "source": [
    "import json\n",
    "import vk_api\n",
    "\n",
    "%matplotlib inline\n",
    "from matplotlib import rc, cm\n",
    "import matplotlib.pyplot as plt\n",
    "from tqdm import tqdm\n",
    "\n",
    "import warnings\n",
    "warnings.filterwarnings('ignore')"
   ]
  },
  {
   "cell_type": "code",
   "execution_count": 2,
   "id": "61d8c019-cb5e-4aa8-8f80-fdf2fff65cdf",
   "metadata": {},
   "outputs": [],
   "source": [
    "with open('../../vk_api_credentials.json', 'r') as json_file:\n",
    "    client_credentials = json.load(json_file)\n",
    "\n",
    "vk_session = vk_api.VkApi(\n",
    "    client_credentials['email_or_phone_number'],\n",
    "    client_credentials['password'],\n",
    ")\n",
    "vk_session.auth()\n",
    "vk_client = vk_session.get_api()"
   ]
  },
  {
   "cell_type": "code",
   "execution_count": 3,
   "id": "56c0c18b-a5f1-40b0-a357-57651d56da34",
   "metadata": {},
   "outputs": [],
   "source": [
    "# Это я.\n",
    "user_id = 35201895"
   ]
  },
  {
   "cell_type": "code",
   "execution_count": 4,
   "id": "2a1f40f7-80b3-4905-af3f-678c70ea4a6f",
   "metadata": {},
   "outputs": [],
   "source": [
    "vk_friends = vk_client.friends.get(\n",
    "    user_id=user_id,\n",
    "    fields=['sex', 'city', 'education'],\n",
    "    order='name'\n",
    ")"
   ]
  },
  {
   "cell_type": "code",
   "execution_count": 5,
   "id": "7dbafac7-1fad-423b-aedf-dc59b3bd3e29",
   "metadata": {},
   "outputs": [
    {
     "data": {
      "text/plain": [
       "dict_keys(['count', 'items'])"
      ]
     },
     "execution_count": 5,
     "metadata": {},
     "output_type": "execute_result"
    }
   ],
   "source": [
    "vk_friends.keys()"
   ]
  },
  {
   "cell_type": "code",
   "execution_count": 6,
   "id": "d44d2199-c34f-4aa9-821e-5fe2b5f6d1b4",
   "metadata": {},
   "outputs": [
    {
     "data": {
      "text/plain": [
       "311"
      ]
     },
     "execution_count": 6,
     "metadata": {},
     "output_type": "execute_result"
    }
   ],
   "source": [
    "vk_friends['count']"
   ]
  },
  {
   "cell_type": "code",
   "execution_count": 47,
   "id": "8b368d3c-2045-4ac6-9c3c-61878ab3046a",
   "metadata": {},
   "outputs": [
    {
     "data": {
      "text/plain": [
       "108"
      ]
     },
     "execution_count": 47,
     "metadata": {},
     "output_type": "execute_result"
    }
   ],
   "source": [
    "vk_client.likes.getList(type='post', owner_id=-131489096, item_id=6682)['count']"
   ]
  },
  {
   "cell_type": "code",
   "execution_count": 23,
   "id": "ae3052f5-9925-4e50-a3aa-232768323616",
   "metadata": {},
   "outputs": [
    {
     "data": {
      "text/plain": [
       "0"
      ]
     },
     "execution_count": 23,
     "metadata": {},
     "output_type": "execute_result"
    }
   ],
   "source": [
    "random.randint(0, 1)"
   ]
  },
  {
   "cell_type": "code",
   "execution_count": 13,
   "id": "fad92dcc-66ec-4a37-b68c-5e2cd3f8060a",
   "metadata": {},
   "outputs": [
    {
     "data": {
      "text/plain": [
       "{'id': 2215300,\n",
       " 'from_id': -147286578,\n",
       " 'owner_id': -147286578,\n",
       " 'date': 1625502006,\n",
       " 'marked_as_ads': 0,\n",
       " 'post_type': 'post',\n",
       " 'text': '',\n",
       " 'is_pinned': 1,\n",
       " 'attachments': [{'type': 'photo',\n",
       "   'photo': {'album_id': -7,\n",
       "    'date': 1625502006,\n",
       "    'id': 457602724,\n",
       "    'owner_id': -147286578,\n",
       "    'has_tags': False,\n",
       "    'access_key': '1f68bea487a138b84a',\n",
       "    'post_id': 2215300,\n",
       "    'sizes': [{'height': 130,\n",
       "      'url': 'https://sun1-47.userapi.com/impg/GlrrldKQm6CsvsuGdH678-C8jnTesxS_5RaMNw/XNh3gJCJOvo.jpg?size=117x130&quality=96&sign=a8bba5bc8581fac6445cef83d98b078f&c_uniq_tag=FqPdJDmynTh6BnNMx-cnSMWnoFeunXVR2uA3HFxXwVw&type=album',\n",
       "      'type': 'm',\n",
       "      'width': 117},\n",
       "     {'height': 145,\n",
       "      'url': 'https://sun1-47.userapi.com/impg/GlrrldKQm6CsvsuGdH678-C8jnTesxS_5RaMNw/XNh3gJCJOvo.jpg?size=130x145&quality=96&sign=ee495ee17c6d3b92e456133a1fec8006&c_uniq_tag=s7AFJmT204l1sFiTxAt6cmp_LwMbBI2wH6FMfgyQ9Ms&type=album',\n",
       "      'type': 'o',\n",
       "      'width': 130},\n",
       "     {'height': 223,\n",
       "      'url': 'https://sun1-47.userapi.com/impg/GlrrldKQm6CsvsuGdH678-C8jnTesxS_5RaMNw/XNh3gJCJOvo.jpg?size=200x223&quality=96&sign=b8be92a179811000d60418d96a0b343f&c_uniq_tag=9r2Olt6RYxu7wmSGDT59jAPNB1BQuHPU8TCWkT0qWr0&type=album',\n",
       "      'type': 'p',\n",
       "      'width': 200},\n",
       "     {'height': 357,\n",
       "      'url': 'https://sun1-47.userapi.com/impg/GlrrldKQm6CsvsuGdH678-C8jnTesxS_5RaMNw/XNh3gJCJOvo.jpg?size=320x357&quality=96&sign=12b064eb4b542305651f5a92f3fcee33&c_uniq_tag=0Pa9WGlLEw9M6JUyOL6BhJvQtD6L4vOIvE1O9FourGk&type=album',\n",
       "      'type': 'q',\n",
       "      'width': 320},\n",
       "     {'height': 568,\n",
       "      'url': 'https://sun1-47.userapi.com/impg/GlrrldKQm6CsvsuGdH678-C8jnTesxS_5RaMNw/XNh3gJCJOvo.jpg?size=510x569&quality=96&sign=62bae2614c0624f478d9d6ef5b603405&c_uniq_tag=ysHcPM5mx1ZIj-ggcmIjbyF5zzmvzGYAQrAKVeySDIE&type=album',\n",
       "      'type': 'r',\n",
       "      'width': 510},\n",
       "     {'height': 75,\n",
       "      'url': 'https://sun1-47.userapi.com/impg/GlrrldKQm6CsvsuGdH678-C8jnTesxS_5RaMNw/XNh3gJCJOvo.jpg?size=67x75&quality=96&sign=93ea61a7fc047060d455da449d548e98&c_uniq_tag=FE-T4fC1WeMxUEmqsc1scvF5gIEwKZnAbhuOJcNf6Aw&type=album',\n",
       "      'type': 's',\n",
       "      'width': 67},\n",
       "     {'height': 1280,\n",
       "      'url': 'https://sun1-47.userapi.com/impg/GlrrldKQm6CsvsuGdH678-C8jnTesxS_5RaMNw/XNh3gJCJOvo.jpg?size=1148x1280&quality=96&sign=4f689faca7cd0c4fa64948fc4796044e&c_uniq_tag=xwVD_7zhSFzkSlhqcuLjEwHzzxwKBDhoGgUdSqD6wgA&type=album',\n",
       "      'type': 'w',\n",
       "      'width': 1148},\n",
       "     {'height': 604,\n",
       "      'url': 'https://sun1-47.userapi.com/impg/GlrrldKQm6CsvsuGdH678-C8jnTesxS_5RaMNw/XNh3gJCJOvo.jpg?size=542x604&quality=96&sign=59e0ef712347c5179168a4e896848a60&c_uniq_tag=5gTKhgXq0X9a4mxhb10kLac7IeH9WySplINMXJntS2s&type=album',\n",
       "      'type': 'x',\n",
       "      'width': 542},\n",
       "     {'height': 807,\n",
       "      'url': 'https://sun1-47.userapi.com/impg/GlrrldKQm6CsvsuGdH678-C8jnTesxS_5RaMNw/XNh3gJCJOvo.jpg?size=724x807&quality=96&sign=e7ba58981c71fb800477c548a99cf54b&c_uniq_tag=dTAtOMkq0JCrIgXHSM0kuEU9ZlsSBPA4W1JarViuYYg&type=album',\n",
       "      'type': 'y',\n",
       "      'width': 724},\n",
       "     {'height': 1080,\n",
       "      'url': 'https://sun1-47.userapi.com/impg/GlrrldKQm6CsvsuGdH678-C8jnTesxS_5RaMNw/XNh3gJCJOvo.jpg?size=969x1080&quality=96&sign=9fe7b7812ad675740ecd3686215e17df&c_uniq_tag=oV1q7xfiumK2oSm5nmplkCJJ2_up3j1q5sUO1HC1CeI&type=album',\n",
       "      'type': 'z',\n",
       "      'width': 969}],\n",
       "    'text': '',\n",
       "    'user_id': 100}}],\n",
       " 'post_source': {'type': 'vk'},\n",
       " 'comments': {'count': 69, 'can_post': 1},\n",
       " 'likes': {'count': 6459, 'user_likes': 0, 'can_like': 1, 'can_publish': 1},\n",
       " 'reposts': {'count': 864, 'user_reposted': 0},\n",
       " 'views': {'count': 79542},\n",
       " 'is_favorite': False}"
      ]
     },
     "execution_count": 13,
     "metadata": {},
     "output_type": "execute_result"
    }
   ],
   "source": [
    "page_domain_name = 'dobriememes'\n",
    "LIKES_THRESHOLD = 150\n",
    "PHOTO_WIDTH_THRESHOLD = 600\n",
    "POST_URL = \"https://vk.com/{domain}?w=wall{owner_id}_{item_id}\"\n",
    "\n",
    "\n",
    "wall_posts = vk_client.wall.get(\n",
    "    domain=page_domain_name,\n",
    "    count=100,\n",
    ")['items']\n",
    "wall_posts[0]"
   ]
  },
  {
   "cell_type": "code",
   "execution_count": 15,
   "id": "f74de5c7-8a9e-496d-9f90-ca2ccad85be4",
   "metadata": {},
   "outputs": [],
   "source": [
    "page_domain_name = 'dobriememes'\n",
    "LIKES_THRESHOLD = 150\n",
    "PHOTO_WIDTH_THRESHOLD = 600\n",
    "POST_URL = \"https://vk.com/{domain}?w=wall{owner_id}_{item_id}\"\n",
    "\n",
    "\n",
    "wall_posts = vk_client.wall.get(\n",
    "    domain=page_domain_name,\n",
    "    count=100,\n",
    ")['items']\n",
    "\n",
    "photo_urls = []\n",
    "photo_credits = []\n",
    "\n",
    "for wall_post in wall_posts:\n",
    "    if 'attachments' not in wall_post:\n",
    "        continue\n",
    "    likes_count = vk_client.likes.getList(\n",
    "        type='post',\n",
    "        owner_id=wall_post['owner_id'],\n",
    "        item_id=wall_post['id'],\n",
    "    )['count']\n",
    "    photo = wall_post['attachments'][0].get('photo')\n",
    "    if photo and likes_count > LIKES_THRESHOLD:\n",
    "        for photo_item in photo['sizes']:\n",
    "            if photo_item['width'] > PHOTO_WIDTH_THRESHOLD:\n",
    "                photo_urls.append(photo_item['url'])\n",
    "                photo_credits.append(\n",
    "                    POST_URL.format(\n",
    "                        domain=page_domain_name,\n",
    "                        owner_id=wall_post['owner_id'],\n",
    "                        item_id=wall_post['id'],\n",
    "                    )\n",
    "                )\n",
    "                break"
   ]
  },
  {
   "cell_type": "code",
   "execution_count": 18,
   "id": "bb8de591-6535-4e75-9346-8c99e9396525",
   "metadata": {},
   "outputs": [],
   "source": [
    "import random\n",
    "import json\n",
    "import vk_api\n",
    "\n",
    "from typing import Dict, Tuple, List\n",
    "\n",
    "\n",
    "class VkRandomMemeFinder:\n",
    "\n",
    "    PHOTO_WIDTH_THRESHOLD = 600\n",
    "    POST_URL = \"https://vk.com/{domain}?w=wall{owner_id}_{item_id}\"\n",
    "    \n",
    "    def __init__(\n",
    "            self,\n",
    "            vk_client,\n",
    "            page_domain_name: str,\n",
    "            likes_threshold: int,\n",
    "    ):\n",
    "        self._vk_client = vk_client\n",
    "        self._page_domain_name = page_domain_name\n",
    "        self._likes_threshold = likes_threshold\n",
    "        self._collect_memes()\n",
    "        \n",
    "    @staticmethod\n",
    "    def from_config(\n",
    "            json_path: str,\n",
    "            page_domain_name: str,\n",
    "            likes_threshold: int,\n",
    "    ):\n",
    "        with open(json_path, 'r') as json_file:\n",
    "            client_credentials = json.load(json_file)\n",
    "\n",
    "        vk_session = vk_api.VkApi(\n",
    "            client_credentials['email_or_phone_number'],\n",
    "            client_credentials['password'],\n",
    "        )\n",
    "        vk_session.auth()\n",
    "        vk_client = vk_session.get_api()\n",
    "        return VkRandomMemeFinder(\n",
    "            vk_client,\n",
    "            page_domain_name,\n",
    "            likes_threshold,\n",
    "        )\n",
    "    \n",
    "    def __call__(self) -> Dict[str, str]:\n",
    "        # Get random meme from a public page.\n",
    "        index = random.randint(0, self._memes_count - 1)\n",
    "        return {\n",
    "            'meme_url': self._photo_urls[index],\n",
    "            'meme_credit': self._photo_credits[index],\n",
    "        }\n",
    "        \n",
    "    \n",
    "    def _collect_memes(self) -> List[Tuple[str, str]]:\n",
    "        wall_posts = self._vk_client.wall.get(\n",
    "            domain=self._page_domain_name,\n",
    "            count=100,\n",
    "        )['items']\n",
    "\n",
    "        self._photo_urls = []\n",
    "        self._photo_credits = []\n",
    "\n",
    "        for wall_post in wall_posts:\n",
    "            if 'attachments' not in wall_post:\n",
    "                continue\n",
    "            likes_count = self._vk_client.likes.getList(\n",
    "                type='post',\n",
    "                owner_id=wall_post['owner_id'],\n",
    "                item_id=wall_post['id'],\n",
    "            )['count']\n",
    "            photo = wall_post['attachments'][0].get('photo')\n",
    "            if photo and likes_count > self._likes_threshold:\n",
    "                for photo_item in photo['sizes']:\n",
    "                    if photo_item['width'] > self.PHOTO_WIDTH_THRESHOLD:\n",
    "                        self._photo_urls.append(photo_item['url'])\n",
    "                        self._photo_credits.append(\n",
    "                            self.POST_URL.format(\n",
    "                                domain=self._page_domain_name,\n",
    "                                owner_id=wall_post['owner_id'],\n",
    "                                item_id=wall_post['id'],\n",
    "                            )\n",
    "                        )\n",
    "                        break\n",
    "        self._memes_count = len(self._photo_urls)\n",
    "        return zip(self._photo_urls, self._photo_credits)"
   ]
  },
  {
   "cell_type": "code",
   "execution_count": 19,
   "id": "1a3e2a75-a5d8-44cf-9524-5758dc3c11e1",
   "metadata": {},
   "outputs": [],
   "source": [
    "#ML_MEMES_DOMAIN_NAME = 'weirdreparametrizationtrick'\n",
    "DOBRIE_MEMES_DOMAIN_NAME = 'dobriememes'\n",
    "\n",
    "vk_random_meme_finder = VkRandomMemeFinder.from_config(\n",
    "    json_path='../../vk_api_credentials.json',\n",
    "    page_domain_name=DOBRIE_MEMES_DOMAIN_NAME,\n",
    "    likes_threshold=3000,\n",
    ")"
   ]
  },
  {
   "cell_type": "code",
   "execution_count": 15,
   "id": "368967dd-6156-41aa-b7a2-ac4db3a44db6",
   "metadata": {},
   "outputs": [
    {
     "data": {
      "text/plain": [
       "{'meme_url': 'https://sun9-80.userapi.com/impg/2Uw9vaJNGMZsRrufCjGk4RJTFkGrI4eg4zLVtw/vSffQvapMqw.jpg?size=604x328&quality=96&sign=0d126fb1a730502a3d2ac509dd74ebe1&c_uniq_tag=Z5G7gNqmJlOhKbiuZ1SSTCJHOe5IKHzlxDjTpxAQQx8&type=album',\n",
       " 'meme_credit': 'https://vk.com/weirdreparametrizationtrick?w=wall-131489096_6763'}"
      ]
     },
     "execution_count": 15,
     "metadata": {},
     "output_type": "execute_result"
    }
   ],
   "source": [
    "vk_random_meme_finder()"
   ]
  },
  {
   "cell_type": "code",
   "execution_count": null,
   "id": "d4f5bdeb-ce42-4db0-b21c-93c4e5f8c140",
   "metadata": {},
   "outputs": [],
   "source": []
  }
 ],
 "metadata": {
  "kernelspec": {
   "display_name": "py36_std_env",
   "language": "python",
   "name": "py36_std_env"
  },
  "language_info": {
   "codemirror_mode": {
    "name": "ipython",
    "version": 3
   },
   "file_extension": ".py",
   "mimetype": "text/x-python",
   "name": "python",
   "nbconvert_exporter": "python",
   "pygments_lexer": "ipython3",
   "version": "3.6.13"
  }
 },
 "nbformat": 4,
 "nbformat_minor": 5
}
