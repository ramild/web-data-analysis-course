{
 "cells": [
  {
   "cell_type": "markdown",
   "id": "c63afb44-b152-4e23-afc5-546840b6171e",
   "metadata": {},
   "source": [
    "### Библиотеки\n",
    "- Библиотеки для обработки данных: [NumPy](https://numpy.org) и [Pandas](https://pandas.pydata.org).\n",
    "- Библиотеки для визуализации данных: [Matplotlib](https://matplotlib.org)  и [Seaborn](https://seaborn.pydata.org/#)."
   ]
  },
  {
   "cell_type": "markdown",
   "id": "32123c0f-90ec-4785-84a9-a945f5b74427",
   "metadata": {},
   "source": [
    "### NumPy\n",
    "\n",
    "**NumPy** — библиотека языка Python, позволяющая удобно работать с многомерными массивами и матрицами, содержащая математические функции. Кроме того, NumPy позволяет векторизовать многие вычисления, имеющие место в машинном обучении. \n",
    "\n",
    " - [numpy](http://www.numpy.org)\n",
    " - [numpy tutorial](http://cs231n.github.io/python-numpy-tutorial/)\n",
    " - [100 numpy exercises](http://www.labri.fr/perso/nrougier/teaching/numpy.100/)"
   ]
  },
  {
   "cell_type": "code",
   "execution_count": 1,
   "id": "66bf9c3a-22be-4bf4-a490-31bd009af8f2",
   "metadata": {},
   "outputs": [],
   "source": [
    "import numpy as np"
   ]
  },
  {
   "cell_type": "code",
   "execution_count": 2,
   "id": "56dfe47b-886b-4e42-88f3-74b236f6f7d9",
   "metadata": {},
   "outputs": [],
   "source": [
    "arr = np.array([1, 2, 4, 5])"
   ]
  },
  {
   "cell_type": "code",
   "execution_count": 3,
   "id": "70921885-5ee0-4b8a-a9a8-6bf699aa74c2",
   "metadata": {},
   "outputs": [],
   "source": [
    "matrix = np.array([[1, 2], [2, 3], [3, 4]])"
   ]
  },
  {
   "cell_type": "code",
   "execution_count": 6,
   "id": "5f3e08b7-0c53-46a5-8959-0c81285d0ea4",
   "metadata": {},
   "outputs": [],
   "source": [
    "matrix_3d = np.array([matrix, 2 * matrix + 5])"
   ]
  },
  {
   "cell_type": "code",
   "execution_count": 7,
   "id": "9e8c1b6d-ee69-4bd1-95ff-907313bb3483",
   "metadata": {},
   "outputs": [
    {
     "data": {
      "text/plain": [
       "(1, 2, 3)"
      ]
     },
     "execution_count": 7,
     "metadata": {},
     "output_type": "execute_result"
    }
   ],
   "source": [
    "arr.ndim, matrix.ndim, matrix_3d.ndim"
   ]
  },
  {
   "cell_type": "code",
   "execution_count": 9,
   "id": "ef542e19-6379-4638-b199-43090e2f228c",
   "metadata": {},
   "outputs": [
    {
     "name": "stdout",
     "output_type": "stream",
     "text": [
      "(4,) (3, 2) (2, 3, 2)\n"
     ]
    }
   ],
   "source": [
    "print(arr.shape, matrix.shape, matrix_3d.shape)"
   ]
  },
  {
   "cell_type": "code",
   "execution_count": null,
   "id": "6fab911a-7cac-43da-a4c9-b747930b5ac2",
   "metadata": {},
   "outputs": [],
   "source": []
  },
  {
   "cell_type": "code",
   "execution_count": null,
   "id": "a961b7cb-9564-45e1-8e65-0fd75820dec9",
   "metadata": {},
   "outputs": [],
   "source": []
  },
  {
   "cell_type": "code",
   "execution_count": 10,
   "id": "1d4c5a77-7a63-4520-9a0c-d81882e0cb39",
   "metadata": {},
   "outputs": [
    {
     "data": {
      "text/plain": [
       "array([0., 0., 0., 0., 0.])"
      ]
     },
     "execution_count": 10,
     "metadata": {},
     "output_type": "execute_result"
    }
   ],
   "source": [
    "np.zeros(5)"
   ]
  },
  {
   "cell_type": "code",
   "execution_count": 11,
   "id": "4ed3a4f8-1ab8-4af9-b72d-60fa1377b4f4",
   "metadata": {},
   "outputs": [
    {
     "data": {
      "text/plain": [
       "array([[[0., 0., 0., 0., 0.],\n",
       "        [0., 0., 0., 0., 0.],\n",
       "        [0., 0., 0., 0., 0.]],\n",
       "\n",
       "       [[0., 0., 0., 0., 0.],\n",
       "        [0., 0., 0., 0., 0.],\n",
       "        [0., 0., 0., 0., 0.]]])"
      ]
     },
     "execution_count": 11,
     "metadata": {},
     "output_type": "execute_result"
    }
   ],
   "source": [
    "np.zeros((2, 3, 5))"
   ]
  },
  {
   "cell_type": "code",
   "execution_count": 12,
   "id": "b2964233-36f7-4be9-b3ca-da7c3e926a59",
   "metadata": {},
   "outputs": [
    {
     "data": {
      "text/plain": [
       "array([[1., 1., 1., 1., 1., 1.],\n",
       "       [1., 1., 1., 1., 1., 1.],\n",
       "       [1., 1., 1., 1., 1., 1.],\n",
       "       [1., 1., 1., 1., 1., 1.],\n",
       "       [1., 1., 1., 1., 1., 1.]])"
      ]
     },
     "execution_count": 12,
     "metadata": {},
     "output_type": "execute_result"
    }
   ],
   "source": [
    "np.ones((5, 6))"
   ]
  },
  {
   "cell_type": "code",
   "execution_count": 13,
   "id": "d1261ae8-20bf-4f2c-9858-af236c62be2b",
   "metadata": {},
   "outputs": [
    {
     "data": {
      "text/plain": [
       "array([[1., 0., 0., 0., 0.],\n",
       "       [0., 1., 0., 0., 0.],\n",
       "       [0., 0., 1., 0., 0.],\n",
       "       [0., 0., 0., 1., 0.],\n",
       "       [0., 0., 0., 0., 1.]])"
      ]
     },
     "execution_count": 13,
     "metadata": {},
     "output_type": "execute_result"
    }
   ],
   "source": [
    "# единичная матрица\n",
    "np.eye(5)"
   ]
  },
  {
   "cell_type": "code",
   "execution_count": 14,
   "id": "88d2d257-4425-4acf-9e6a-e34e215739c4",
   "metadata": {},
   "outputs": [
    {
     "data": {
      "text/plain": [
       "array([[1., 0., 0., 0., 0.],\n",
       "       [0., 1., 0., 0., 0.],\n",
       "       [0., 0., 1., 0., 0.],\n",
       "       [0., 0., 0., 1., 0.],\n",
       "       [0., 0., 0., 0., 1.]])"
      ]
     },
     "execution_count": 14,
     "metadata": {},
     "output_type": "execute_result"
    }
   ],
   "source": [
    "np.identity(5)"
   ]
  },
  {
   "cell_type": "code",
   "execution_count": 15,
   "id": "8d70aa49-bff2-4b60-aba8-124e0f403fe2",
   "metadata": {},
   "outputs": [
    {
     "data": {
      "text/plain": [
       "array([ 2,  5,  8, 11, 14, 17])"
      ]
     },
     "execution_count": 15,
     "metadata": {},
     "output_type": "execute_result"
    }
   ],
   "source": [
    "np.arange(2, 20, 3)"
   ]
  },
  {
   "cell_type": "code",
   "execution_count": 16,
   "id": "494abd53-48ce-4c9f-845d-0627eec26881",
   "metadata": {},
   "outputs": [
    {
     "data": {
      "text/plain": [
       "array([ 2,  4,  6,  8, 10, 12, 14, 16, 18])"
      ]
     },
     "execution_count": 16,
     "metadata": {},
     "output_type": "execute_result"
    }
   ],
   "source": [
    "np.arange(2, 20, 2)"
   ]
  },
  {
   "cell_type": "code",
   "execution_count": 17,
   "id": "f4bcd13b-96b8-454a-8ab7-74502e66a8e0",
   "metadata": {},
   "outputs": [
    {
     "data": {
      "text/plain": [
       "array([ 3.        ,  3.64705882,  4.29411765,  4.94117647,  5.58823529,\n",
       "        6.23529412,  6.88235294,  7.52941176,  8.17647059,  8.82352941,\n",
       "        9.47058824, 10.11764706, 10.76470588, 11.41176471, 12.05882353,\n",
       "       12.70588235, 13.35294118, 14.        ])"
      ]
     },
     "execution_count": 17,
     "metadata": {},
     "output_type": "execute_result"
    }
   ],
   "source": [
    "np.linspace(3, 14, 18)"
   ]
  },
  {
   "cell_type": "code",
   "execution_count": 18,
   "id": "927abbef-38c7-4a61-bc38-b9f640b3fe01",
   "metadata": {},
   "outputs": [
    {
     "data": {
      "text/plain": [
       "array([ 3.5       ,  3.61111111,  3.72222222,  3.83333333,  3.94444444,\n",
       "        4.05555556,  4.16666667,  4.27777778,  4.38888889,  4.5       ,\n",
       "        4.61111111,  4.72222222,  4.83333333,  4.94444444,  5.05555556,\n",
       "        5.16666667,  5.27777778,  5.38888889,  5.5       ,  5.61111111,\n",
       "        5.72222222,  5.83333333,  5.94444444,  6.05555556,  6.16666667,\n",
       "        6.27777778,  6.38888889,  6.5       ,  6.61111111,  6.72222222,\n",
       "        6.83333333,  6.94444444,  7.05555556,  7.16666667,  7.27777778,\n",
       "        7.38888889,  7.5       ,  7.61111111,  7.72222222,  7.83333333,\n",
       "        7.94444444,  8.05555556,  8.16666667,  8.27777778,  8.38888889,\n",
       "        8.5       ,  8.61111111,  8.72222222,  8.83333333,  8.94444444,\n",
       "        9.05555556,  9.16666667,  9.27777778,  9.38888889,  9.5       ,\n",
       "        9.61111111,  9.72222222,  9.83333333,  9.94444444, 10.05555556,\n",
       "       10.16666667, 10.27777778, 10.38888889, 10.5       , 10.61111111,\n",
       "       10.72222222, 10.83333333, 10.94444444, 11.05555556, 11.16666667,\n",
       "       11.27777778, 11.38888889, 11.5       , 11.61111111, 11.72222222,\n",
       "       11.83333333, 11.94444444, 12.05555556, 12.16666667, 12.27777778,\n",
       "       12.38888889, 12.5       , 12.61111111, 12.72222222, 12.83333333,\n",
       "       12.94444444, 13.05555556, 13.16666667, 13.27777778, 13.38888889,\n",
       "       13.5       , 13.61111111, 13.72222222, 13.83333333, 13.94444444,\n",
       "       14.05555556, 14.16666667, 14.27777778, 14.38888889, 14.5       ])"
      ]
     },
     "execution_count": 18,
     "metadata": {},
     "output_type": "execute_result"
    }
   ],
   "source": [
    "np.linspace(3.5, 14.5, 100)"
   ]
  },
  {
   "cell_type": "code",
   "execution_count": 19,
   "id": "6b08404d-155e-45ac-86a9-e955a934f8bb",
   "metadata": {},
   "outputs": [
    {
     "data": {
      "text/plain": [
       "array([1., 2., 3., 4., 5.])"
      ]
     },
     "execution_count": 19,
     "metadata": {},
     "output_type": "execute_result"
    }
   ],
   "source": [
    "np.array([1, 2, 3, 4, 5], dtype=float)"
   ]
  },
  {
   "cell_type": "code",
   "execution_count": 22,
   "id": "3c580db2-7988-4d9f-81f3-308c6ee2297c",
   "metadata": {},
   "outputs": [
    {
     "data": {
      "text/plain": [
       "array([[0, 1, 2, 3, 4],\n",
       "       [5, 6, 7, 8, 9]])"
      ]
     },
     "execution_count": 22,
     "metadata": {},
     "output_type": "execute_result"
    }
   ],
   "source": [
    "np.arange(10).reshape((2, 5))"
   ]
  },
  {
   "cell_type": "code",
   "execution_count": 20,
   "id": "59b99c27-b6fd-4408-808b-ebbcf0e5c8d9",
   "metadata": {},
   "outputs": [
    {
     "data": {
      "text/plain": [
       "array([[0, 5],\n",
       "       [1, 6],\n",
       "       [2, 7],\n",
       "       [3, 8],\n",
       "       [4, 9]])"
      ]
     },
     "execution_count": 20,
     "metadata": {},
     "output_type": "execute_result"
    }
   ],
   "source": [
    "A = np.arange(10).reshape((2, 5))\n",
    "A.T"
   ]
  },
  {
   "cell_type": "code",
   "execution_count": 23,
   "id": "5b9a4fc9-fe96-40b3-b038-bcc328d297aa",
   "metadata": {},
   "outputs": [
    {
     "data": {
      "text/plain": [
       "array([[0, 5],\n",
       "       [1, 6],\n",
       "       [2, 7],\n",
       "       [3, 8],\n",
       "       [4, 9]])"
      ]
     },
     "execution_count": 23,
     "metadata": {},
     "output_type": "execute_result"
    }
   ],
   "source": [
    "np.transpose(A)"
   ]
  },
  {
   "cell_type": "code",
   "execution_count": 24,
   "id": "d6499d24-5ef7-4af0-a592-64a919dce4f7",
   "metadata": {},
   "outputs": [],
   "source": [
    "B = np.arange(8).reshape((2, 4))"
   ]
  },
  {
   "cell_type": "code",
   "execution_count": 25,
   "id": "00a41869-80a4-464c-9e3b-e2d85a1ce6b4",
   "metadata": {},
   "outputs": [
    {
     "data": {
      "text/plain": [
       "array([[0, 1, 2, 3],\n",
       "       [4, 5, 6, 7]])"
      ]
     },
     "execution_count": 25,
     "metadata": {},
     "output_type": "execute_result"
    }
   ],
   "source": [
    "B"
   ]
  },
  {
   "cell_type": "code",
   "execution_count": 26,
   "id": "101e7b91-82da-4a1a-8022-437cfbfc26b1",
   "metadata": {},
   "outputs": [
    {
     "name": "stdout",
     "output_type": "stream",
     "text": [
      "[[20 25 30 35]\n",
      " [24 31 38 45]\n",
      " [28 37 46 55]\n",
      " [32 43 54 65]\n",
      " [36 49 62 75]]\n",
      "[[20 25 30 35]\n",
      " [24 31 38 45]\n",
      " [28 37 46 55]\n",
      " [32 43 54 65]\n",
      " [36 49 62 75]]\n"
     ]
    }
   ],
   "source": [
    "B = np.arange(8).reshape((2, 4))\n",
    "\n",
    "# A * B\n",
    "print(A.T.dot(B))\n",
    "print(np.dot(A.T, B))"
   ]
  },
  {
   "cell_type": "code",
   "execution_count": 27,
   "id": "fafe41e7-163e-4737-bea9-0bb506ade5c8",
   "metadata": {},
   "outputs": [
    {
     "ename": "ValueError",
     "evalue": "shapes (2,5) and (2,4) not aligned: 5 (dim 1) != 2 (dim 0)",
     "output_type": "error",
     "traceback": [
      "\u001b[0;31m---------------------------------------------------------------------------\u001b[0m",
      "\u001b[0;31mValueError\u001b[0m                                Traceback (most recent call last)",
      "\u001b[0;32m<ipython-input-27-1e3a8194ce1e>\u001b[0m in \u001b[0;36m<module>\u001b[0;34m\u001b[0m\n\u001b[0;32m----> 1\u001b[0;31m \u001b[0mA\u001b[0m\u001b[0;34m.\u001b[0m\u001b[0mdot\u001b[0m\u001b[0;34m(\u001b[0m\u001b[0mB\u001b[0m\u001b[0;34m)\u001b[0m\u001b[0;34m\u001b[0m\u001b[0;34m\u001b[0m\u001b[0m\n\u001b[0m",
      "\u001b[0;31mValueError\u001b[0m: shapes (2,5) and (2,4) not aligned: 5 (dim 1) != 2 (dim 0)"
     ]
    }
   ],
   "source": [
    "A.dot(B)"
   ]
  },
  {
   "cell_type": "code",
   "execution_count": null,
   "id": "fdfc73fc-0aca-4ec3-9f6f-8a73e8bb6acb",
   "metadata": {},
   "outputs": [],
   "source": []
  },
  {
   "cell_type": "code",
   "execution_count": 28,
   "id": "e4e329c0-42d6-4600-be52-874b26aeecf6",
   "metadata": {},
   "outputs": [
    {
     "data": {
      "text/plain": [
       "array([[1.00000000e+00, 2.71828183e+00, 7.38905610e+00, 2.00855369e+01,\n",
       "        5.45981500e+01],\n",
       "       [1.48413159e+02, 4.03428793e+02, 1.09663316e+03, 2.98095799e+03,\n",
       "        8.10308393e+03]])"
      ]
     },
     "execution_count": 28,
     "metadata": {},
     "output_type": "execute_result"
    }
   ],
   "source": [
    "np.exp(A)"
   ]
  },
  {
   "cell_type": "code",
   "execution_count": 29,
   "id": "895039f5-ee73-4e09-b645-48c081565d1b",
   "metadata": {},
   "outputs": [
    {
     "data": {
      "text/plain": [
       "array([[ 0.        ,  0.84147098,  0.90929743,  0.14112001, -0.7568025 ],\n",
       "       [-0.95892427, -0.2794155 ,  0.6569866 ,  0.98935825,  0.41211849]])"
      ]
     },
     "execution_count": 29,
     "metadata": {},
     "output_type": "execute_result"
    }
   ],
   "source": [
    "np.sin(A)"
   ]
  },
  {
   "cell_type": "code",
   "execution_count": 32,
   "id": "a9e8183f-38b1-4afb-91a7-9794b5b32893",
   "metadata": {},
   "outputs": [
    {
     "data": {
      "text/plain": [
       "array([[0, 1, 2, 3, 4],\n",
       "       [5, 6, 7, 8, 9]])"
      ]
     },
     "execution_count": 32,
     "metadata": {},
     "output_type": "execute_result"
    }
   ],
   "source": [
    "A"
   ]
  },
  {
   "cell_type": "code",
   "execution_count": 30,
   "id": "d6a6d7d6-b8bd-49b9-8e13-3be758aa515c",
   "metadata": {},
   "outputs": [
    {
     "data": {
      "text/plain": [
       "(9, 0)"
      ]
     },
     "execution_count": 30,
     "metadata": {},
     "output_type": "execute_result"
    }
   ],
   "source": [
    "np.max(A), np.min(A)"
   ]
  },
  {
   "cell_type": "code",
   "execution_count": 31,
   "id": "165c020f-d599-4a72-800e-5c263f49eb12",
   "metadata": {},
   "outputs": [
    {
     "data": {
      "text/plain": [
       "array([5, 6, 7, 8, 9])"
      ]
     },
     "execution_count": 31,
     "metadata": {},
     "output_type": "execute_result"
    }
   ],
   "source": [
    "np.max(A, axis=0)"
   ]
  },
  {
   "cell_type": "code",
   "execution_count": 33,
   "id": "95cd7b2e-20df-4d31-9a44-5ae65b575c61",
   "metadata": {},
   "outputs": [
    {
     "data": {
      "text/plain": [
       "array([4, 9])"
      ]
     },
     "execution_count": 33,
     "metadata": {},
     "output_type": "execute_result"
    }
   ],
   "source": [
    "np.max(A, axis=1)"
   ]
  },
  {
   "cell_type": "code",
   "execution_count": 34,
   "id": "23f04241-cea8-4450-a811-7e22b4aff39a",
   "metadata": {},
   "outputs": [
    {
     "data": {
      "text/plain": [
       "array([[2, 3],\n",
       "       [7, 8]])"
      ]
     },
     "execution_count": 34,
     "metadata": {},
     "output_type": "execute_result"
    }
   ],
   "source": [
    "A[:, 2:4]"
   ]
  },
  {
   "cell_type": "code",
   "execution_count": 36,
   "id": "9f61406f-b97b-4264-97e4-2f7922c06ad7",
   "metadata": {},
   "outputs": [
    {
     "data": {
      "text/plain": [
       "array([[0, 1, 2, 3, 4],\n",
       "       [5, 6, 7, 8, 9]])"
      ]
     },
     "execution_count": 36,
     "metadata": {},
     "output_type": "execute_result"
    }
   ],
   "source": [
    "A"
   ]
  },
  {
   "cell_type": "code",
   "execution_count": 35,
   "id": "9b8820cc-b241-41c4-a650-ebea8dba2c07",
   "metadata": {},
   "outputs": [
    {
     "data": {
      "text/plain": [
       "array([[ True, False, False,  True, False],\n",
       "       [False,  True, False, False,  True]])"
      ]
     },
     "execution_count": 35,
     "metadata": {},
     "output_type": "execute_result"
    }
   ],
   "source": [
    "A % 3 == 0"
   ]
  },
  {
   "cell_type": "code",
   "execution_count": 37,
   "id": "24b3cdf4-460b-4845-be10-ee686f3f3c89",
   "metadata": {},
   "outputs": [
    {
     "data": {
      "text/plain": [
       "array([0, 3, 6, 9])"
      ]
     },
     "execution_count": 37,
     "metadata": {},
     "output_type": "execute_result"
    }
   ],
   "source": [
    "A[A % 3 == 0]"
   ]
  },
  {
   "cell_type": "code",
   "execution_count": 40,
   "id": "5962aa6a-caac-40ea-a4ea-6f88a23e2452",
   "metadata": {},
   "outputs": [
    {
     "data": {
      "text/plain": [
       "array([[84, 71, 40, 74, 62],\n",
       "       [27, 17, 30, 88, 11],\n",
       "       [11, 94, 91,  0, 35],\n",
       "       [91, 58, 16, 94, 43]])"
      ]
     },
     "execution_count": 40,
     "metadata": {},
     "output_type": "execute_result"
    }
   ],
   "source": [
    "A = np.random.randint(0, 100, (4, 5))\n",
    "A"
   ]
  },
  {
   "cell_type": "code",
   "execution_count": 41,
   "id": "4b97c762-5736-4696-9008-0213a28e14ab",
   "metadata": {},
   "outputs": [
    {
     "data": {
      "text/plain": [
       "array([84, 27, 30, 91,  0, 35, 91])"
      ]
     },
     "execution_count": 41,
     "metadata": {},
     "output_type": "execute_result"
    }
   ],
   "source": [
    "A[(A % 3 == 0) | (A % 7 == 0)]"
   ]
  },
  {
   "cell_type": "code",
   "execution_count": 42,
   "id": "f9754c77-4cc5-4ed2-8464-7b04439385f6",
   "metadata": {},
   "outputs": [
    {
     "data": {
      "text/plain": [
       "array([84,  0])"
      ]
     },
     "execution_count": 42,
     "metadata": {},
     "output_type": "execute_result"
    }
   ],
   "source": [
    "A[(A % 3 == 0) & (A % 7 == 0)]"
   ]
  },
  {
   "cell_type": "code",
   "execution_count": 43,
   "id": "1c5799c0-b32a-4d1d-b03f-ff73d518097b",
   "metadata": {},
   "outputs": [
    {
     "data": {
      "text/plain": [
       "array([[0, 1, 2],\n",
       "       [3, 4, 5],\n",
       "       [6, 7, 8]])"
      ]
     },
     "execution_count": 43,
     "metadata": {},
     "output_type": "execute_result"
    }
   ],
   "source": [
    "A = np.arange(9).reshape((3, 3))\n",
    "A"
   ]
  },
  {
   "cell_type": "code",
   "execution_count": 45,
   "id": "3d7f7fcd-0185-4734-a069-deca3a190ed5",
   "metadata": {},
   "outputs": [
    {
     "data": {
      "text/plain": [
       "array([[  0,   1,   8],\n",
       "       [ 27,  64, 125],\n",
       "       [216, 343, 512]])"
      ]
     },
     "execution_count": 45,
     "metadata": {},
     "output_type": "execute_result"
    }
   ],
   "source": [
    "A ** 3"
   ]
  },
  {
   "cell_type": "code",
   "execution_count": 46,
   "id": "ca52dc21-d115-478a-93b2-7f0662184dc7",
   "metadata": {},
   "outputs": [
    {
     "data": {
      "text/plain": [
       "array([ 3, 12, 21])"
      ]
     },
     "execution_count": 46,
     "metadata": {},
     "output_type": "execute_result"
    }
   ],
   "source": [
    "A.sum(axis=1)"
   ]
  },
  {
   "cell_type": "markdown",
   "id": "e473231e-39fb-4f65-9222-c9b50e38c889",
   "metadata": {},
   "source": [
    "#### Зачем?\n",
    "\n",
    "Зачем необходимо использовать NumPy, если существуют стандартные списки/кортежи и циклы?\n",
    "\n",
    "Основаная причина заключается в скорости работы. Попробуем посчитать сумму поэлементых произведений 2 больших векторов:"
   ]
  },
  {
   "cell_type": "code",
   "execution_count": 47,
   "id": "4c51a7c0-4633-458f-824f-c1a97e20b64b",
   "metadata": {},
   "outputs": [],
   "source": [
    "A_quick_arr = np.random.normal(size = (1000000,))\n",
    "B_quick_arr = np.random.normal(size = (1000000,))"
   ]
  },
  {
   "cell_type": "code",
   "execution_count": 48,
   "id": "f4a6c706-87c6-4e3b-913f-0f911e94f91a",
   "metadata": {},
   "outputs": [
    {
     "data": {
      "text/plain": [
       "array([ 0.56470364,  2.00378689,  1.74635017,  1.2320923 , -1.03369476])"
      ]
     },
     "execution_count": 48,
     "metadata": {},
     "output_type": "execute_result"
    }
   ],
   "source": [
    "A_quick_arr[:5]"
   ]
  },
  {
   "cell_type": "code",
   "execution_count": 49,
   "id": "0919b2d2-1d39-4ba9-87db-65baf016b2a6",
   "metadata": {},
   "outputs": [],
   "source": [
    "A_slow_list = list(A_quick_arr)\n",
    "B_slow_list = list(B_quick_arr)"
   ]
  },
  {
   "cell_type": "code",
   "execution_count": 54,
   "id": "11802121-2b19-4e31-8849-585c29ddc8fe",
   "metadata": {},
   "outputs": [
    {
     "name": "stdout",
     "output_type": "stream",
     "text": [
      "219 ms ± 9.93 ms per loop (mean ± std. dev. of 7 runs, 10 loops each)\n"
     ]
    }
   ],
   "source": [
    "%%timeit -n 10\n",
    "\n",
    "ans = 0\n",
    "n = len(A_slow_list)\n",
    "\n",
    "for i in range(n):\n",
    "    ans += A_slow_list[i] * B_slow_list[i]\n",
    "ans"
   ]
  },
  {
   "cell_type": "code",
   "execution_count": 56,
   "id": "5fea426b-75e1-43e2-92f4-699dc99684ed",
   "metadata": {},
   "outputs": [
    {
     "name": "stdout",
     "output_type": "stream",
     "text": [
      "525 µs ± 76.3 µs per loop (mean ± std. dev. of 7 runs, 50 loops each)\n"
     ]
    }
   ],
   "source": [
    "%%timeit -n 50\n",
    "\n",
    "A_quick_arr.dot(B_quick_arr.T)"
   ]
  },
  {
   "cell_type": "code",
   "execution_count": null,
   "id": "da870b15-ee78-4f3a-a7f6-65d8b38f30a4",
   "metadata": {},
   "outputs": [],
   "source": []
  },
  {
   "cell_type": "code",
   "execution_count": null,
   "id": "fcb4df09-8c64-4fe5-81c8-1fd8ea7faf6b",
   "metadata": {},
   "outputs": [],
   "source": []
  },
  {
   "cell_type": "code",
   "execution_count": null,
   "id": "56ef9b70-9725-407e-add9-1e0a580edea9",
   "metadata": {},
   "outputs": [],
   "source": []
  },
  {
   "cell_type": "markdown",
   "id": "73750ca5-a405-4fd6-a2b1-9c744df106de",
   "metadata": {},
   "source": [
    "**Задание 1.** По заданному одномерному numpy-массиву найдите все элементы в нем, которые удовлетворяют двум условиям:\n",
    "* остаток при делении на 7 больше, чем 3\n",
    "* остаток при делении на 11 меньше 4\n",
    "\n",
    "**Задание 2.** По заданному двумерному numpy-массиву $A$ найдите сумму квадратов всех его элементов и поделите на количество элементов в матрице. К полученному результату прибавьте минимум заданной матрицы на втором столбце и максимум на предпоследнем столбце (гарантируется, что в матрице не менее двух столбцов).\n",
    "\n",
    "**Задание 3.** Напишите функцию, которая по заданному одномерному numpy-массиву $A$ и числу $x$ возвращает позицию наиближайшего к $x$ элемента в матрице $A$. Попробуйте придумать наиболее эффективную реализацию. Замерьте время выполнения вашего решения."
   ]
  },
  {
   "cell_type": "code",
   "execution_count": 57,
   "id": "fcd76675-afdb-4c22-aad6-8b52e15ed29c",
   "metadata": {},
   "outputs": [],
   "source": [
    "arr = np.random.randint(0, 10000, 300)"
   ]
  },
  {
   "cell_type": "code",
   "execution_count": 59,
   "id": "3e0a8d23-1c92-424c-8c39-b20c57484e93",
   "metadata": {},
   "outputs": [
    {
     "data": {
      "text/plain": [
       "array([ 528, 8350, 1251, 1200, 8933, 6448, 2145, 5125, 6105, 2207, 7083,\n",
       "       2711, 6382, 5218, 2607, 5392,  870, 9774, 7249, 1606, 1739, 8444,\n",
       "       8350, 7679, 4492, 4518, 4126, 4865, 5502, 4660, 4671, 4883, 9097,\n",
       "       6332, 8806, 3019,  839, 6130, 6789, 4423, 8074, 2186, 3362, 6232,\n",
       "        982, 7797, 1448, 9660, 9221, 2023, 6382, 4810, 2181, 3681, 2379,\n",
       "       7643, 6902, 3988, 2816, 6063, 7681,  107, 7067, 8090, 4745, 9258,\n",
       "       8026, 3828, 8468, 7475, 7691, 9636, 7088,  901, 2784, 3252,  207,\n",
       "        576, 8683, 7281, 4374, 2029, 3787, 5238, 5790, 6290, 7857, 7555,\n",
       "       1531, 6152, 1993, 9935, 7901, 5090, 9113, 3696, 5752, 3244, 1648,\n",
       "       7261, 5793, 3696, 6291, 9765,  281, 8530, 8270,  104, 6912, 1319,\n",
       "       5237, 6908, 6547, 5603,  474, 5830, 6766, 2580, 1868,  828, 5921,\n",
       "       6896, 7548, 1075, 3065,  219, 1745, 8088, 8340,  115, 3054, 7887,\n",
       "        378, 1566, 9806, 5674, 4272, 2849, 6777,  683, 5926,  674, 3805,\n",
       "       3596, 4076,  829, 6810,  551, 3471, 1093, 5586, 1627, 9083, 3656,\n",
       "       6605, 2233, 8708, 4824,  370, 8913, 2008, 1632, 8720, 8230, 2830,\n",
       "       9950, 6987, 9766, 4732, 2558, 6251, 9452, 9183, 9239, 6151, 3094,\n",
       "       1295, 7708, 7266, 2414, 7339, 6846,  454, 9482, 8636, 4165, 1798,\n",
       "       9769, 2166,  787, 9390, 8355, 3739, 9142, 1237,  148, 3131, 1832,\n",
       "       9404,  658, 1391, 7529, 1185, 7285, 6233, 9970, 6805, 7756, 4991,\n",
       "       1070, 7695, 1653, 2933, 9170, 4929, 4609, 5471, 2807, 5229,  687,\n",
       "       6041, 2606, 5548, 8597, 9409, 1461, 9599, 3201, 4525, 4948, 9963,\n",
       "       7545, 6378, 4195, 1546, 4938, 9237, 1368,  331, 1662, 8110, 6634,\n",
       "       3439, 6822, 1352, 9142, 1593, 9251, 4487, 8651, 6449, 1467, 2803,\n",
       "       9534, 6352,  630,  834, 6907, 6385, 1774, 3667, 4471,  753, 8077,\n",
       "       4277, 8903, 4214, 2477, 8991, 8103, 5765, 8839, 9108, 3360, 3772,\n",
       "       8829, 6349, 1921, 1099, 4986, 8100, 7408, 6439, 5723, 4040, 2533,\n",
       "        438, 6916,  827, 5494, 4553, 4306, 4323, 7886,  298, 5310, 9137,\n",
       "       3388, 3184, 8289])"
      ]
     },
     "execution_count": 59,
     "metadata": {},
     "output_type": "execute_result"
    }
   ],
   "source": [
    "arr"
   ]
  },
  {
   "cell_type": "code",
   "execution_count": 58,
   "id": "ba13b6a6-d7cb-4352-a269-85f04c487478",
   "metadata": {},
   "outputs": [
    {
     "data": {
      "text/plain": [
       "array([8350, 6382, 7249, 8350, 9097,  839, 6130, 6789, 4423, 6382, 2181,\n",
       "       2379, 3828, 7691, 9636, 2784, 1531, 6152, 1993, 7901, 6908,  474,\n",
       "       5830, 6766, 5921, 7887,  683, 6810,  551, 8230, 6151,  454, 9482,\n",
       "       8636, 9769, 7285, 1070, 8110, 6634, 6822, 9251, 8077, 2477, 5765,\n",
       "       5723, 2533, 4323,  298])"
      ]
     },
     "execution_count": 58,
     "metadata": {},
     "output_type": "execute_result"
    }
   ],
   "source": [
    "arr[(arr % 7 > 3) & (arr % 11 < 4)]"
   ]
  },
  {
   "cell_type": "code",
   "execution_count": null,
   "id": "63e5fb86-9aeb-46e3-a255-4647acda1230",
   "metadata": {},
   "outputs": [],
   "source": []
  },
  {
   "cell_type": "code",
   "execution_count": 60,
   "id": "ce546a92-dd51-4511-b4c3-ac1380d74c68",
   "metadata": {},
   "outputs": [],
   "source": [
    "A = np.array(\n",
    "    [\n",
    "        [2, 4, 7, 1],\n",
    "        [7, 8, 5, 10],\n",
    "        [6, 3, 6, 4],\n",
    "        [20, 3, 1, 2],\n",
    "        [2, 8, 5, 11],\n",
    "    ]\n",
    ")"
   ]
  },
  {
   "cell_type": "code",
   "execution_count": 63,
   "id": "f2861da2-eea3-4b41-8209-d2f9413ac4bf",
   "metadata": {},
   "outputs": [
    {
     "data": {
      "text/plain": [
       "20"
      ]
     },
     "execution_count": 63,
     "metadata": {},
     "output_type": "execute_result"
    }
   ],
   "source": [
    "A.size"
   ]
  },
  {
   "cell_type": "code",
   "execution_count": 64,
   "id": "70bf3aff-5f50-4a5c-8322-e50cbab2f7c6",
   "metadata": {},
   "outputs": [
    {
     "data": {
      "text/plain": [
       "61.65"
      ]
     },
     "execution_count": 64,
     "metadata": {},
     "output_type": "execute_result"
    }
   ],
   "source": [
    "np.sum(A ** 2) / A.size + A[:, 1].min() + A[:, -2].max()"
   ]
  },
  {
   "cell_type": "code",
   "execution_count": null,
   "id": "a80ffc78-2356-455d-b5c2-6cc56499363a",
   "metadata": {},
   "outputs": [],
   "source": []
  },
  {
   "cell_type": "code",
   "execution_count": 69,
   "id": "7f86d5c4-a5b2-4d54-a143-c79584c3918c",
   "metadata": {},
   "outputs": [
    {
     "name": "stdout",
     "output_type": "stream",
     "text": [
      "28\n",
      "102.49999999999997\n",
      "CPU times: user 354 µs, sys: 188 µs, total: 542 µs\n",
      "Wall time: 386 µs\n"
     ]
    }
   ],
   "source": [
    "%%time\n",
    "\n",
    "A = np.arange(10.1, 504.2, 3.3)\n",
    "x = 103\n",
    "\n",
    "index = np.abs(A - x).argmin()\n",
    "print(index)\n",
    "print(A[index])"
   ]
  },
  {
   "cell_type": "code",
   "execution_count": null,
   "id": "11a50097-4719-4df3-86ab-8453921213e0",
   "metadata": {},
   "outputs": [],
   "source": []
  }
 ],
 "metadata": {
  "kernelspec": {
   "display_name": "py36_std_env",
   "language": "python",
   "name": "py36_std_env"
  },
  "language_info": {
   "codemirror_mode": {
    "name": "ipython",
    "version": 3
   },
   "file_extension": ".py",
   "mimetype": "text/x-python",
   "name": "python",
   "nbconvert_exporter": "python",
   "pygments_lexer": "ipython3",
   "version": "3.6.13"
  }
 },
 "nbformat": 4,
 "nbformat_minor": 5
}
