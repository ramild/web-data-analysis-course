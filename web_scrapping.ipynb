{
 "cells": [
  {
   "cell_type": "code",
   "execution_count": 1,
   "id": "46c0ac53-73fd-4db7-97b0-74bf6eca051c",
   "metadata": {},
   "outputs": [],
   "source": [
    "import urllib.request\n",
    "from tqdm.notebook import tqdm\n",
    "import six\n",
    "import requests\n",
    "from bs4 import BeautifulSoup\n",
    "import pandas as pd"
   ]
  },
  {
   "cell_type": "code",
   "execution_count": 2,
   "id": "de96c547-2eba-4b2d-87b9-fcbd5a84dffc",
   "metadata": {},
   "outputs": [],
   "source": [
    "html_code = '''\n",
    "<!DOCTYPE html>\n",
    "<html lang=\"ru\" prefix=\"og: http://ogp.me/ns# article: http://ogp.me/ns/article# profile: http://ogp.me/ns/profile# fb: http://ogp.me/ns/fb#\">\n",
    "<head>\n",
    "    <title> Just a Title</title>\n",
    "</head>\n",
    "<body class=\"layout narrow-view g-desktop \" id=\"hey js-body\">\n",
    "    <p class='text odd'> This is a <b>bold</b> statement</p>\n",
    "    <p class='text even'> This is my <a href=\"www.github.com\">link</a>, click it</p>\n",
    "    <p class='list odd'> This is my <a href=\"www.github.com\"><b>bold link</b></a>, click it</p>\n",
    "</body>\n",
    "'''"
   ]
  },
  {
   "cell_type": "code",
   "execution_count": 3,
   "id": "660ec8e8-2b96-486c-8b8e-2cce114babb4",
   "metadata": {},
   "outputs": [],
   "source": [
    "soup = BeautifulSoup(html_code, 'html.parser') # lxml, html5lib"
   ]
  },
  {
   "cell_type": "code",
   "execution_count": 4,
   "id": "a29a095b-5868-4c0b-93ca-13479a24a077",
   "metadata": {},
   "outputs": [
    {
     "name": "stdout",
     "output_type": "stream",
     "text": [
      "<!DOCTYPE html>\n",
      "<html lang=\"ru\" prefix=\"og: http://ogp.me/ns# article: http://ogp.me/ns/article# profile: http://ogp.me/ns/profile# fb: http://ogp.me/ns/fb#\">\n",
      " <head>\n",
      "  <title>\n",
      "   Just a Title\n",
      "  </title>\n",
      " </head>\n",
      " <body class=\"layout narrow-view g-desktop\" id=\"hey js-body\">\n",
      "  <p class=\"text odd\">\n",
      "   This is a\n",
      "   <b>\n",
      "    bold\n",
      "   </b>\n",
      "   statement\n",
      "  </p>\n",
      "  <p class=\"text even\">\n",
      "   This is my\n",
      "   <a href=\"www.github.com\">\n",
      "    link\n",
      "   </a>\n",
      "   , click it\n",
      "  </p>\n",
      "  <p class=\"list odd\">\n",
      "   This is my\n",
      "   <a href=\"www.github.com\">\n",
      "    <b>\n",
      "     bold link\n",
      "    </b>\n",
      "   </a>\n",
      "   , click it\n",
      "  </p>\n",
      " </body>\n",
      "</html>\n"
     ]
    }
   ],
   "source": [
    "print(soup.prettify())"
   ]
  },
  {
   "cell_type": "code",
   "execution_count": 5,
   "id": "ddd11fe2-453a-4e11-928c-54f81146b4eb",
   "metadata": {},
   "outputs": [
    {
     "data": {
      "text/plain": [
       "bs4.element.Tag"
      ]
     },
     "execution_count": 5,
     "metadata": {},
     "output_type": "execute_result"
    }
   ],
   "source": [
    "# Хочу получить первый тег p\n",
    "type(soup.body)"
   ]
  },
  {
   "cell_type": "code",
   "execution_count": 6,
   "id": "0d6f5a7c-28e5-4673-8c67-12da0c8b9f51",
   "metadata": {},
   "outputs": [
    {
     "data": {
      "text/plain": [
       "<body class=\"layout narrow-view g-desktop\" id=\"hey js-body\">\n",
       "<p class=\"text odd\"> This is a <b>bold</b> statement</p>\n",
       "<p class=\"text even\"> This is my <a href=\"www.github.com\">link</a>, click it</p>\n",
       "<p class=\"list odd\"> This is my <a href=\"www.github.com\"><b>bold link</b></a>, click it</p>\n",
       "</body>"
      ]
     },
     "execution_count": 6,
     "metadata": {},
     "output_type": "execute_result"
    }
   ],
   "source": [
    "soup.body"
   ]
  },
  {
   "cell_type": "code",
   "execution_count": 7,
   "id": "4678a747-5f23-482e-aac5-2b63aebb08dd",
   "metadata": {},
   "outputs": [
    {
     "data": {
      "text/plain": [
       "<p class=\"text odd\"> This is a <b>bold</b> statement</p>"
      ]
     },
     "execution_count": 7,
     "metadata": {},
     "output_type": "execute_result"
    }
   ],
   "source": [
    "soup.p"
   ]
  },
  {
   "cell_type": "code",
   "execution_count": 8,
   "id": "86c362a5-474f-4ea2-b49e-7221e7f5c9c2",
   "metadata": {},
   "outputs": [
    {
     "data": {
      "text/plain": [
       "['text', 'odd']"
      ]
     },
     "execution_count": 8,
     "metadata": {},
     "output_type": "execute_result"
    }
   ],
   "source": [
    "# Хочу получить первый тег p и взять значение class (get)\n",
    "soup.p['class']"
   ]
  },
  {
   "cell_type": "code",
   "execution_count": 9,
   "id": "d151773d-dbb4-4edd-9158-a51437f1a2e5",
   "metadata": {},
   "outputs": [
    {
     "data": {
      "text/plain": [
       "'hey js-body'"
      ]
     },
     "execution_count": 9,
     "metadata": {},
     "output_type": "execute_result"
    }
   ],
   "source": [
    "soup.body['id']"
   ]
  },
  {
   "cell_type": "code",
   "execution_count": 10,
   "id": "50ea523b-c834-4944-8950-79744eea301e",
   "metadata": {},
   "outputs": [
    {
     "data": {
      "text/plain": [
       "' statement'"
      ]
     },
     "execution_count": 10,
     "metadata": {},
     "output_type": "execute_result"
    }
   ],
   "source": [
    "soup.p.next.next.next.next"
   ]
  },
  {
   "cell_type": "code",
   "execution_count": 11,
   "id": "d117778a-9d82-4672-9ccc-72cb7b29790f",
   "metadata": {},
   "outputs": [
    {
     "data": {
      "text/plain": [
       "<html lang=\"ru\" prefix=\"og: http://ogp.me/ns# article: http://ogp.me/ns/article# profile: http://ogp.me/ns/profile# fb: http://ogp.me/ns/fb#\">\n",
       "<head>\n",
       "<title> Just a Title</title>\n",
       "</head>\n",
       "<body class=\"layout narrow-view g-desktop\" id=\"hey js-body\">\n",
       "<p class=\"text odd\"> This is a <b>bold</b> statement</p>\n",
       "<p class=\"text even\"> This is my <a href=\"www.github.com\">link</a>, click it</p>\n",
       "<p class=\"list odd\"> This is my <a href=\"www.github.com\"><b>bold link</b></a>, click it</p>\n",
       "</body>\n",
       "</html>"
      ]
     },
     "execution_count": 11,
     "metadata": {},
     "output_type": "execute_result"
    }
   ],
   "source": [
    "soup.p.parent.parent"
   ]
  },
  {
   "cell_type": "code",
   "execution_count": 12,
   "id": "4bffc2b9-3a51-477f-bf7a-44243da62233",
   "metadata": {},
   "outputs": [
    {
     "data": {
      "text/plain": [
       "['body', 'html', '[document]']"
      ]
     },
     "execution_count": 12,
     "metadata": {},
     "output_type": "execute_result"
    }
   ],
   "source": [
    "# parents\n",
    "[tag.name for tag in soup.p.parents]"
   ]
  },
  {
   "cell_type": "code",
   "execution_count": 13,
   "id": "0af97fc0-e900-4373-baaa-a256a8b2e258",
   "metadata": {},
   "outputs": [
    {
     "data": {
      "text/plain": [
       "[' This is a ', <b>bold</b>, ' statement']"
      ]
     },
     "execution_count": 13,
     "metadata": {},
     "output_type": "execute_result"
    }
   ],
   "source": [
    "soup.p.contents"
   ]
  },
  {
   "cell_type": "code",
   "execution_count": 14,
   "id": "cd16d838-b935-40c4-903b-12ea19857bb8",
   "metadata": {},
   "outputs": [
    {
     "data": {
      "text/plain": [
       "[None, 'b', None]"
      ]
     },
     "execution_count": 14,
     "metadata": {},
     "output_type": "execute_result"
    }
   ],
   "source": [
    "# children, contents\n",
    "[tag.name for tag in soup.p.children]"
   ]
  },
  {
   "cell_type": "code",
   "execution_count": 15,
   "id": "b0eddfc1-3c4e-4218-ac73-d7bbe6437199",
   "metadata": {},
   "outputs": [
    {
     "data": {
      "text/plain": [
       "['\\n',\n",
       " <p class=\"text even\"> This is my <a href=\"www.github.com\">link</a>, click it</p>,\n",
       " '\\n',\n",
       " <p class=\"list odd\"> This is my <a href=\"www.github.com\"><b>bold link</b></a>, click it</p>,\n",
       " '\\n']"
      ]
     },
     "execution_count": 15,
     "metadata": {},
     "output_type": "execute_result"
    }
   ],
   "source": [
    "# next sibling, next siblings, find next siblings\n",
    "list(soup.p.next_siblings)"
   ]
  },
  {
   "cell_type": "code",
   "execution_count": 16,
   "id": "d2e63e40-fae7-49a5-98ed-34baa7b92d01",
   "metadata": {},
   "outputs": [
    {
     "data": {
      "text/plain": [
       "[<p class=\"list odd\"> This is my <a href=\"www.github.com\"><b>bold link</b></a>, click it</p>]"
      ]
     },
     "execution_count": 16,
     "metadata": {},
     "output_type": "execute_result"
    }
   ],
   "source": [
    "soup.p.find_next_siblings(class_='list')"
   ]
  },
  {
   "cell_type": "code",
   "execution_count": 17,
   "id": "c3ad4fa9-ab44-498c-85a2-a99d708f11e7",
   "metadata": {},
   "outputs": [
    {
     "data": {
      "text/plain": [
       "[<p class=\"text odd\"> This is a <b>bold</b> statement</p>,\n",
       " <p class=\"list odd\"> This is my <a href=\"www.github.com\"><b>bold link</b></a>, click it</p>]"
      ]
     },
     "execution_count": 17,
     "metadata": {},
     "output_type": "execute_result"
    }
   ],
   "source": [
    "# find all\n",
    "soup.find_all('p', 'odd')"
   ]
  },
  {
   "cell_type": "code",
   "execution_count": 18,
   "id": "8654347e-211d-498e-90ec-f3e3577b6279",
   "metadata": {},
   "outputs": [
    {
     "data": {
      "text/plain": [
       "\n",
       "<!DOCTYPE html>\n",
       "\n",
       "<html lang=\"ru\" prefix=\"og: http://ogp.me/ns# article: http://ogp.me/ns/article# profile: http://ogp.me/ns/profile# fb: http://ogp.me/ns/fb#\">\n",
       "<head>\n",
       "<title> Just a Title</title>\n",
       "</head>\n",
       "<body class=\"layout narrow-view g-desktop\" id=\"hey js-body\">\n",
       "<p class=\"text odd\"> This is a <b>bold</b> statement</p>\n",
       "<p class=\"text even\"> This is my <a href=\"www.github.com\">link</a>, click it</p>\n",
       "<p class=\"list odd\"> This is my <a href=\"www.github.com\"><b>bold link</b></a>, click it</p>\n",
       "</body>\n",
       "</html>"
      ]
     },
     "execution_count": 18,
     "metadata": {},
     "output_type": "execute_result"
    }
   ],
   "source": [
    "soup"
   ]
  },
  {
   "cell_type": "code",
   "execution_count": 19,
   "id": "1d568660-e1b2-49ca-8792-2d8908d1b333",
   "metadata": {},
   "outputs": [
    {
     "data": {
      "text/plain": [
       "'www.github.com'"
      ]
     },
     "execution_count": 19,
     "metadata": {},
     "output_type": "execute_result"
    }
   ],
   "source": [
    "soup.find_all('p')[1].a['href']"
   ]
  },
  {
   "cell_type": "code",
   "execution_count": 20,
   "id": "fcebe941-ce5a-495d-b4f7-d49ed7c82ba9",
   "metadata": {},
   "outputs": [
    {
     "data": {
      "text/plain": [
       "'bold link'"
      ]
     },
     "execution_count": 20,
     "metadata": {},
     "output_type": "execute_result"
    }
   ],
   "source": [
    "soup.find_all('p')[-1].b.text"
   ]
  },
  {
   "cell_type": "code",
   "execution_count": null,
   "id": "a237a61f-8525-41df-a4c7-28462201c6d4",
   "metadata": {},
   "outputs": [],
   "source": []
  },
  {
   "cell_type": "markdown",
   "id": "60026428-3b4d-4e3a-8e87-80f16e26a05e",
   "metadata": {},
   "source": [
    "## Задача про Еду 🍔"
   ]
  },
  {
   "cell_type": "markdown",
   "id": "551f93a3-7c3b-4e0c-961a-2e6d85605202",
   "metadata": {},
   "source": [
    "Хотим научиться по названию блюда определять, какая это кухня.\n",
    "\n",
    "Пример: категоризация ресторанов по меню.\n",
    "\n",
    "Будем парсить [eda.ru](eda.ru)"
   ]
  },
  {
   "cell_type": "code",
   "execution_count": 21,
   "id": "d402352c-52e3-4b32-b695-f02ffd4191ae",
   "metadata": {},
   "outputs": [],
   "source": [
    "import requests"
   ]
  },
  {
   "cell_type": "code",
   "execution_count": 22,
   "id": "313cdaa8-6452-4e2f-aa50-12862a9e7615",
   "metadata": {},
   "outputs": [],
   "source": [
    "cousine_code = 'italyanskaya-kuhnya'\n",
    "page_num = 200\n",
    "url = f'https://eda.ru/recepty/{cousine_code}?page={page_num}'"
   ]
  },
  {
   "cell_type": "code",
   "execution_count": 23,
   "id": "3503ed8c-ff62-4d18-9914-6d58dc8ea3c3",
   "metadata": {},
   "outputs": [],
   "source": [
    "response = requests.get(url)"
   ]
  },
  {
   "cell_type": "code",
   "execution_count": 24,
   "id": "0bc01579-a389-4029-8313-e19679a700b6",
   "metadata": {},
   "outputs": [
    {
     "data": {
      "text/plain": [
       "<Response [200]>"
      ]
     },
     "execution_count": 24,
     "metadata": {},
     "output_type": "execute_result"
    }
   ],
   "source": [
    "response"
   ]
  },
  {
   "cell_type": "code",
   "execution_count": 25,
   "id": "b472e493-a825-47c2-adb1-ebb793aa2366",
   "metadata": {},
   "outputs": [],
   "source": [
    "soup = BeautifulSoup(response.content, 'html.parser')"
   ]
  },
  {
   "cell_type": "code",
   "execution_count": null,
   "id": "6437f790-fc5c-4c2f-b3a5-3b9b9affe19f",
   "metadata": {
    "tags": []
   },
   "outputs": [],
   "source": [
    "print(soup.prettify())"
   ]
  },
  {
   "cell_type": "code",
   "execution_count": 27,
   "id": "0a452268-fbb5-4f45-adcd-da719da7c466",
   "metadata": {
    "tags": []
   },
   "outputs": [
    {
     "data": {
      "text/plain": [
       "{'italyanskaya-kuhnya': 'Итальянская',\n",
       " 'gruzinskaya-kuhnya': 'Грузинская',\n",
       " 'kitayskaya-kuhnya': 'Китайская',\n",
       " 'francuzskaya-kuhnya': 'Французская',\n",
       " 'russkaya-kuhnya': 'Русская',\n",
       " 'yaponskaya-kuhnya': 'Японская',\n",
       " 'indiyskaya-kuhnya': 'Индийская',\n",
       " 'meksikanskaya-kuhnya': 'Мексиканская',\n",
       " 'armyanskaya-kuhnya': 'Армянская',\n",
       " 'amerikanskaya-kuhnya': 'Американская',\n",
       " 'ispanskaya-kuhnya': 'Испанская',\n",
       " 'nemeckaya-kuhnya': 'Немецкая',\n",
       " 'grecheskaya-kuhnya': 'Греческая',\n",
       " 'azerbaydzhanskaya-kuhnya': 'Азербайджанская',\n",
       " 'evropeyskaya-kuhnya': 'Европейская',\n",
       " 'evreyskaya-kuhnya': 'Еврейская',\n",
       " 'koreyskaya-kuhnya': 'Корейская',\n",
       " 'tayskaya-kuhnya': 'Тайская',\n",
       " 'panaziatskaya-kuhnya': 'Паназиатская',\n",
       " 'tureckaya-kuhnya': 'Турецкая',\n",
       " 'uzbekskaya-kuhnya': 'Узбекская',\n",
       " 'tatarskaya-kuhnya': 'Татарская',\n",
       " 'sredizemnomorskaya-kuhnya': 'Средиземноморская',\n",
       " 'arabskaya-kuhnya': 'Арабская',\n",
       " 'ukrainskaya-kuhnya': 'Украинская',\n",
       " 'polskaya-kuhnya': 'Польская',\n",
       " 'britanskaya-kuhnya': 'Британская',\n",
       " 'belorusskaya-kuhnya': 'Белорусская',\n",
       " 'norvezhskaya-kuhnya': 'Норвежская',\n",
       " 'shvedskaya-kuhnya': 'Шведская',\n",
       " 'marokkanskaya-kuhnya': 'Марокканская',\n",
       " 'bolgarskaya-kuhnya': 'Болгарская',\n",
       " 'avstriyskaya-kuhnya': 'Австрийская',\n",
       " 'avstraliyskaya-kuhnya': 'Австралийская',\n",
       " 'finskaya-kuhnya': 'Финская',\n",
       " 'serbskaya-kuhnya': 'Сербская',\n",
       " 'vengerskaya-kuhnya': 'Венгерская',\n",
       " 'vetnamskaya-kuhnya': 'Вьетнамская',\n",
       " 'moldavskaya-kuhnya': 'Молдавская',\n",
       " 'vesterosskaya-kuhnya': 'Кухня Вестероса',\n",
       " 'osetinskaya-kuhnya': 'Осетинская',\n",
       " 'all': 'Все кухни',\n",
       " 'abkhaziancuisine': 'Абхазская',\n",
       " 'avtorskaya-kuhnya': 'Авторская',\n",
       " 'argentinskaya-kuhnya': 'Аргентинская',\n",
       " 'afganskaya-kuhnya': 'Афганская',\n",
       " 'afikanskaya-kuhnya': 'Африканская',\n",
       " 'bashkirskaya-kuhnya': 'Башкирская',\n",
       " 'belgiyskaya-kuhnya': 'Бельгийская',\n",
       " 'brazilskaya-kuhnya': 'Бразильская',\n",
       " 'vostochno-indiyskaya-kuhnya': 'Восточно-индийская',\n",
       " 'gollandskaya-kuhnya': 'Голландская',\n",
       " 'datskaya-kuhnya': 'Датская',\n",
       " 'egipetskaya-kuhnya': 'Египетская',\n",
       " 'indoneziyskaya-kuhnya': 'Индонезийская',\n",
       " 'irlandskaya-kuhnya': 'Ирландская',\n",
       " 'kazahskaya-kuhnya': 'Казахская',\n",
       " 'kambodzhiyskaya-kuhnya': 'Камбоджийская',\n",
       " 'karibskaya-kuhnya': 'Карибская',\n",
       " 'katalonskaya-kuhnya': 'Каталонская',\n",
       " 'kiprskaya-kuhnya': 'Кипрская',\n",
       " 'kirgizskaya-kuhnya': 'Киргизская',\n",
       " 'krymskaya-kuhnya': 'Крымская',\n",
       " 'kubinskaya-kuhnya': 'Кубинская',\n",
       " 'latviyskaya-kuhnya': 'Латвийская',\n",
       " 'latinoamerikanskaya-kuhnya': 'Латиноамериканская',\n",
       " 'livanskaya-kuhnya': 'Ливанская',\n",
       " 'litovskaya-kuhnya': 'Литовская',\n",
       " 'malaziyskaya-kuhnya': 'Малазийская',\n",
       " 'malayskaya-kuhnya': 'Малайская',\n",
       " 'maltiyaskaya-kuhnya': 'Мальтийская',\n",
       " 'odesskaya-kuhnya': 'Одесская',\n",
       " 'pakistanskaya-kuhnya': 'Пакистанская',\n",
       " 'pendzhabskaya-kuhnya': 'Пенджабская',\n",
       " 'persidskaya-kuhnya': 'Персидская',\n",
       " 'peruanskaya_kuhnya': 'Перуанская',\n",
       " 'portugalskaya-kuhnya': 'Португальская',\n",
       " 'radzhastanskaya-kuhnya': 'Раджастанская',\n",
       " 'rumynskaya-kuhnya': 'Румынская',\n",
       " 'severno-indiyskaya-kuhnya': 'Северно-индийская',\n",
       " 'singapurskaya-kuhnya': 'Сингапурская',\n",
       " 'siriyskaya-kuhnya': 'Сирийская',\n",
       " 'skandinavskaya-kuhnya': 'Скандинавская',\n",
       " 'tadzhikskaya-kuhnya': 'Таджикская',\n",
       " 'turkmenskaya-kuhnya': 'Туркменская',\n",
       " 'filippinskaya-kuhnya': 'Филиппинская',\n",
       " 'khorvatskaya-kuhnya': 'Хорватская',\n",
       " 'cherkesskaya-kuhnya': 'Черкесская',\n",
       " 'chernogorskaya-kuhnya': 'Черногорская',\n",
       " 'chechenskaya-kuhnya': 'Чеченская',\n",
       " 'cheshskaya-kuhnya': 'Чешская',\n",
       " 'shotlandskaya-kuhnya': 'Шотландская',\n",
       " 'estonskaya-kuhnya': 'Эстонская',\n",
       " 'yugoslavskaya-kuhnya': 'Югославская',\n",
       " 'yuzhno-indiyskaya-kuhnya': 'Южно-индийская'}"
      ]
     },
     "execution_count": 27,
     "metadata": {},
     "output_type": "execute_result"
    }
   ],
   "source": [
    "cousines_html_block = soup.find_all('div', 'select-suggest js-select-suggest')[1]\n",
    "cousines = cousines_html_block.find_all('li')[2:]\n",
    "cousine_names = [cousine.text.strip() for cousine in cousines]\n",
    "cousine_codes = [cousine['data-select-suggest-value'] for cousine in cousines]\n",
    "cousine_code_to_name = dict(zip(cousine_codes, cousine_names))\n",
    "cousine_code_to_name"
   ]
  },
  {
   "cell_type": "code",
   "execution_count": 28,
   "id": "c5edb133-ef24-4c6c-88ee-ba0ab5bc0131",
   "metadata": {},
   "outputs": [],
   "source": [
    "import numpy as np\n",
    "cousine_codes = list(set(cousine_codes) - {'all'})"
   ]
  },
  {
   "cell_type": "code",
   "execution_count": 29,
   "id": "ea831d5e-1cf4-4bc5-bfc7-8529020358fe",
   "metadata": {
    "tags": []
   },
   "outputs": [
    {
     "data": {
      "text/plain": [
       "(['Закуски', 'Итальянская кухня'],\n",
       " 'Винный цикорий',\n",
       " 'https://eda.ru/recepty/zakuski/vinnij-cikorij-35571')"
      ]
     },
     "execution_count": 29,
     "metadata": {},
     "output_type": "execute_result"
    }
   ],
   "source": [
    "meal_soup = soup('div', 'horizontal-tile__content')[0]\n",
    "meal_tags = [tag.text for tag in meal_soup('li')]\n",
    "meal_name = meal_soup.h3.text.strip().replace('\\xa0', ' ')\n",
    "meal_url = f'https://eda.ru{meal_soup.h3.a[\"href\"]}' \n",
    "meal_tags, meal_name, meal_url"
   ]
  },
  {
   "cell_type": "code",
   "execution_count": 55,
   "id": "1a0b22a6-e42c-4400-8add-d7ab006d942e",
   "metadata": {},
   "outputs": [
    {
     "data": {
      "application/vnd.jupyter.widget-view+json": {
       "model_id": "3e69b428a9b747f1a395a61e444df810",
       "version_major": 2,
       "version_minor": 0
      },
      "text/plain": [
       "  0%|          | 0/75 [00:00<?, ?it/s]"
      ]
     },
     "metadata": {},
     "output_type": "display_data"
    },
    {
     "name": "stdout",
     "output_type": "stream",
     "text": [
      "italyanskaya-kuhnya\n",
      "belorusskaya-kuhnya\n",
      "avstraliyskaya-kuhnya\n",
      "vostochno-indiyskaya-kuhnya\n",
      "odesskaya-kuhnya\n",
      "evropeyskaya-kuhnya\n",
      "latinoamerikanskaya-kuhnya\n",
      "chechenskaya-kuhnya\n",
      "kazahskaya-kuhnya\n",
      "estonskaya-kuhnya\n",
      "yugoslavskaya-kuhnya\n",
      "turkmenskaya-kuhnya\n",
      "argentinskaya-kuhnya\n",
      "azerbaydzhanskaya-kuhnya\n",
      "kirgizskaya-kuhnya\n",
      "kitayskaya-kuhnya\n",
      "severno-indiyskaya-kuhnya\n",
      "avstriyskaya-kuhnya\n",
      "tayskaya-kuhnya\n",
      "afganskaya-kuhnya\n",
      "bolgarskaya-kuhnya\n",
      "shvedskaya-kuhnya\n",
      "maltiyaskaya-kuhnya\n",
      "arabskaya-kuhnya\n",
      "irlandskaya-kuhnya\n",
      "katalonskaya-kuhnya\n",
      "evreyskaya-kuhnya\n",
      "moldavskaya-kuhnya\n",
      "tadzhikskaya-kuhnya\n",
      "finskaya-kuhnya\n",
      "uzbekskaya-kuhnya\n",
      "bashkirskaya-kuhnya\n",
      "francuzskaya-kuhnya\n",
      "tureckaya-kuhnya\n",
      "vengerskaya-kuhnya\n",
      "vesterosskaya-kuhnya\n",
      "belgiyskaya-kuhnya\n",
      "kubinskaya-kuhnya\n",
      "vetnamskaya-kuhnya\n",
      "pendzhabskaya-kuhnya\n",
      "datskaya-kuhnya\n",
      "malaziyskaya-kuhnya\n",
      "yaponskaya-kuhnya\n",
      "marokkanskaya-kuhnya\n",
      "livanskaya-kuhnya\n",
      "abkhaziancuisine\n",
      "krymskaya-kuhnya\n",
      "amerikanskaya-kuhnya\n",
      "tatarskaya-kuhnya\n",
      "polskaya-kuhnya\n",
      "peruanskaya_kuhnya\n",
      "singapurskaya-kuhnya\n",
      "egipetskaya-kuhnya\n",
      "yuzhno-indiyskaya-kuhnya\n",
      "kiprskaya-kuhnya\n",
      "siriyskaya-kuhnya\n",
      "britanskaya-kuhnya\n",
      "latviyskaya-kuhnya\n",
      "norvezhskaya-kuhnya\n",
      "afikanskaya-kuhnya\n",
      "russkaya-kuhnya\n",
      "kambodzhiyskaya-kuhnya\n",
      "gruzinskaya-kuhnya\n",
      "grecheskaya-kuhnya\n",
      "ispanskaya-kuhnya\n",
      "litovskaya-kuhnya\n",
      "ukrainskaya-kuhnya\n",
      "malayskaya-kuhnya\n",
      "cherkesskaya-kuhnya\n",
      "khorvatskaya-kuhnya\n",
      "nemeckaya-kuhnya\n",
      "portugalskaya-kuhnya\n",
      "gollandskaya-kuhnya\n",
      "meksikanskaya-kuhnya\n",
      "avtorskaya-kuhnya\n",
      "CPU times: user 10min 2s, sys: 12.8 s, total: 10min 15s\n",
      "Wall time: 28min 46s\n"
     ]
    }
   ],
   "source": [
    "%%time\n",
    "\n",
    "meal_names = []\n",
    "meal_tags = []\n",
    "meal_urls = []\n",
    "meal_cousine_names = []\n",
    "meal_images = []\n",
    "MAX_NUM_PAGES = 1000\n",
    "GOOD_RESPONSE_STATUS = 200\n",
    "\n",
    "for cousine_code in tqdm(cousine_codes):\n",
    "    print(cousine_code)\n",
    "    for page_num in range(1, MAX_NUM_PAGES):\n",
    "        url = f'https://eda.ru/recepty/{cousine_code}?page={page_num}'\n",
    "        try:\n",
    "            response = requests.get(url, timeout=20)\n",
    "        except:\n",
    "            break\n",
    "        if response.status_code != GOOD_RESPONSE_STATUS:\n",
    "            break\n",
    "        soup = BeautifulSoup(response.content, 'html.parser')\n",
    "        meal_soups = soup('div', 'horizontal-tile__content')\n",
    "        # Чтобы быстро работало важно дописать это:\n",
    "        if len(meal_soups) == 0:\n",
    "            break\n",
    "        \n",
    "        image_links = [\n",
    "            image.get('xlink:href')\n",
    "            for image in soup('image')\n",
    "        ]\n",
    "        assert len(image_links) == len(meal_soups)\n",
    "        \n",
    "        meal_images += image_links\n",
    "        for meal_soup in meal_soups:\n",
    "            tags = [tag.text for tag in meal_soup('li')]\n",
    "            name = meal_soup.h3.text.strip().replace('\\xa0', ' ')\n",
    "            url = f'https://eda.ru{meal_soup.h3.a[\"href\"]}' \n",
    "            meal_tags.append(tags)\n",
    "            meal_urls.append(url)\n",
    "            meal_names.append(name)\n",
    "            meal_cousine_names.append(\n",
    "                cousine_code_to_name[cousine_code]\n",
    "            )"
   ]
  },
  {
   "cell_type": "code",
   "execution_count": 60,
   "id": "1b5f63f9-7829-48d4-ad02-4722cc905f62",
   "metadata": {},
   "outputs": [
    {
     "data": {
      "text/html": [
       "<div>\n",
       "<style scoped>\n",
       "    .dataframe tbody tr th:only-of-type {\n",
       "        vertical-align: middle;\n",
       "    }\n",
       "\n",
       "    .dataframe tbody tr th {\n",
       "        vertical-align: top;\n",
       "    }\n",
       "\n",
       "    .dataframe thead th {\n",
       "        text-align: right;\n",
       "    }\n",
       "</style>\n",
       "<table border=\"1\" class=\"dataframe\">\n",
       "  <thead>\n",
       "    <tr style=\"text-align: right;\">\n",
       "      <th></th>\n",
       "      <th>meal_names</th>\n",
       "      <th>meal_tags</th>\n",
       "      <th>meal_urls</th>\n",
       "      <th>meal_cousine_names</th>\n",
       "      <th>meal_images</th>\n",
       "    </tr>\n",
       "  </thead>\n",
       "  <tbody>\n",
       "    <tr>\n",
       "      <th>0</th>\n",
       "      <td>Спагетти карбонара с красным луком</td>\n",
       "      <td>[Пошаговые рецепты, Паста и пицца, Итальянская...</td>\n",
       "      <td>https://eda.ru/recepty/pasta-picca/spagetti-ka...</td>\n",
       "      <td>Итальянская</td>\n",
       "      <td>https://eda.ru/img/eda/c20x20i/s2.eda.ru/Stati...</td>\n",
       "    </tr>\n",
       "    <tr>\n",
       "      <th>1</th>\n",
       "      <td>Лазанья классическая с мясом</td>\n",
       "      <td>[Пошаговые рецепты, Паста и пицца, Итальянская...</td>\n",
       "      <td>https://eda.ru/recepty/pasta-picca/lazanja-kla...</td>\n",
       "      <td>Итальянская</td>\n",
       "      <td>https://eda.ru/img/eda/c20x20i/s2.eda.ru/Stati...</td>\n",
       "    </tr>\n",
       "    <tr>\n",
       "      <th>2</th>\n",
       "      <td>Салат из красной фасоли с творожным сыром…</td>\n",
       "      <td>[Пошаговые рецепты, Салаты, Итальянская кухня]</td>\n",
       "      <td>https://eda.ru/recepty/salaty/salat-iz-krasnoj...</td>\n",
       "      <td>Итальянская</td>\n",
       "      <td>https://eda.ru/img/eda/c20x20i/s2.eda.ru/Stati...</td>\n",
       "    </tr>\n",
       "    <tr>\n",
       "      <th>3</th>\n",
       "      <td>Брускетта с помидорами</td>\n",
       "      <td>[Пошаговые рецепты, Закуски, Сэндвичи, Итальян...</td>\n",
       "      <td>https://eda.ru/recepty/zakuski/brusketta-s-pom...</td>\n",
       "      <td>Итальянская</td>\n",
       "      <td>https://eda.ru/img/eda/c20x20i/s2.eda.ru/Stati...</td>\n",
       "    </tr>\n",
       "    <tr>\n",
       "      <th>4</th>\n",
       "      <td>Фриттата с брокколи и сладким перцем</td>\n",
       "      <td>[Пошаговые рецепты, Завтраки, Итальянская кухня]</td>\n",
       "      <td>https://eda.ru/recepty/zavtraki/frittata-s-bro...</td>\n",
       "      <td>Итальянская</td>\n",
       "      <td>https://eda.ru/img/eda/c20x20i/s1.eda.ru/Stati...</td>\n",
       "    </tr>\n",
       "    <tr>\n",
       "      <th>...</th>\n",
       "      <td>...</td>\n",
       "      <td>...</td>\n",
       "      <td>...</td>\n",
       "      <td>...</td>\n",
       "      <td>...</td>\n",
       "    </tr>\n",
       "    <tr>\n",
       "      <th>33678</th>\n",
       "      <td>Салат из зелени с ореховой заправкой</td>\n",
       "      <td>[Салаты, Авторская кухня, Веганская еда]</td>\n",
       "      <td>https://eda.ru/recepty/salaty/salat-iz-zeleni-...</td>\n",
       "      <td>Авторская</td>\n",
       "      <td>https://eda.ru/img/eda/c20x20i/s1.eda.ru/Stati...</td>\n",
       "    </tr>\n",
       "    <tr>\n",
       "      <th>33679</th>\n",
       "      <td>Коктейль «Личи с малиной — тини»</td>\n",
       "      <td>[Напитки, Авторская кухня]</td>\n",
       "      <td>https://eda.ru/recepty/napitki/kokteyl-lichi-s...</td>\n",
       "      <td>Авторская</td>\n",
       "      <td>https://eda.ru/img/eda/c20x20i/s2.eda.ru/Stati...</td>\n",
       "    </tr>\n",
       "    <tr>\n",
       "      <th>33680</th>\n",
       "      <td>Коктейль «Лавандовый сауэр»</td>\n",
       "      <td>[Напитки, Авторская кухня]</td>\n",
       "      <td>https://eda.ru/recepty/napitki/kokteyl-lavando...</td>\n",
       "      <td>Авторская</td>\n",
       "      <td>https://eda.ru/img/eda/c20x20i/s2.eda.ru/Stati...</td>\n",
       "    </tr>\n",
       "    <tr>\n",
       "      <th>33681</th>\n",
       "      <td>Треска по рецепту Эммы</td>\n",
       "      <td>[Основные блюда, Авторская кухня]</td>\n",
       "      <td>https://eda.ru/recepty/osnovnye-blyuda/treska-...</td>\n",
       "      <td>Авторская</td>\n",
       "      <td>https://eda.ru/img/eda/c20x20i/s1.eda.ru/Stati...</td>\n",
       "    </tr>\n",
       "    <tr>\n",
       "      <th>33682</th>\n",
       "      <td>Дорада в солевом коконе</td>\n",
       "      <td>[Основные блюда, Авторская кухня]</td>\n",
       "      <td>https://eda.ru/recepty/osnovnye-blyuda/dorada-...</td>\n",
       "      <td>Авторская</td>\n",
       "      <td>https://eda.ru/img/eda/c20x20i/s1.eda.ru/Stati...</td>\n",
       "    </tr>\n",
       "  </tbody>\n",
       "</table>\n",
       "<p>32260 rows × 5 columns</p>\n",
       "</div>"
      ],
      "text/plain": [
       "                                       meal_names  \\\n",
       "0              Спагетти карбонара с красным луком   \n",
       "1                    Лазанья классическая с мясом   \n",
       "2      Салат из красной фасоли с творожным сыром…   \n",
       "3                          Брускетта с помидорами   \n",
       "4            Фриттата с брокколи и сладким перцем   \n",
       "...                                           ...   \n",
       "33678        Салат из зелени с ореховой заправкой   \n",
       "33679            Коктейль «Личи с малиной — тини»   \n",
       "33680                 Коктейль «Лавандовый сауэр»   \n",
       "33681                      Треска по рецепту Эммы   \n",
       "33682                     Дорада в солевом коконе   \n",
       "\n",
       "                                               meal_tags  \\\n",
       "0      [Пошаговые рецепты, Паста и пицца, Итальянская...   \n",
       "1      [Пошаговые рецепты, Паста и пицца, Итальянская...   \n",
       "2         [Пошаговые рецепты, Салаты, Итальянская кухня]   \n",
       "3      [Пошаговые рецепты, Закуски, Сэндвичи, Итальян...   \n",
       "4       [Пошаговые рецепты, Завтраки, Итальянская кухня]   \n",
       "...                                                  ...   \n",
       "33678           [Салаты, Авторская кухня, Веганская еда]   \n",
       "33679                         [Напитки, Авторская кухня]   \n",
       "33680                         [Напитки, Авторская кухня]   \n",
       "33681                  [Основные блюда, Авторская кухня]   \n",
       "33682                  [Основные блюда, Авторская кухня]   \n",
       "\n",
       "                                               meal_urls meal_cousine_names  \\\n",
       "0      https://eda.ru/recepty/pasta-picca/spagetti-ka...        Итальянская   \n",
       "1      https://eda.ru/recepty/pasta-picca/lazanja-kla...        Итальянская   \n",
       "2      https://eda.ru/recepty/salaty/salat-iz-krasnoj...        Итальянская   \n",
       "3      https://eda.ru/recepty/zakuski/brusketta-s-pom...        Итальянская   \n",
       "4      https://eda.ru/recepty/zavtraki/frittata-s-bro...        Итальянская   \n",
       "...                                                  ...                ...   \n",
       "33678  https://eda.ru/recepty/salaty/salat-iz-zeleni-...          Авторская   \n",
       "33679  https://eda.ru/recepty/napitki/kokteyl-lichi-s...          Авторская   \n",
       "33680  https://eda.ru/recepty/napitki/kokteyl-lavando...          Авторская   \n",
       "33681  https://eda.ru/recepty/osnovnye-blyuda/treska-...          Авторская   \n",
       "33682  https://eda.ru/recepty/osnovnye-blyuda/dorada-...          Авторская   \n",
       "\n",
       "                                             meal_images  \n",
       "0      https://eda.ru/img/eda/c20x20i/s2.eda.ru/Stati...  \n",
       "1      https://eda.ru/img/eda/c20x20i/s2.eda.ru/Stati...  \n",
       "2      https://eda.ru/img/eda/c20x20i/s2.eda.ru/Stati...  \n",
       "3      https://eda.ru/img/eda/c20x20i/s2.eda.ru/Stati...  \n",
       "4      https://eda.ru/img/eda/c20x20i/s1.eda.ru/Stati...  \n",
       "...                                                  ...  \n",
       "33678  https://eda.ru/img/eda/c20x20i/s1.eda.ru/Stati...  \n",
       "33679  https://eda.ru/img/eda/c20x20i/s2.eda.ru/Stati...  \n",
       "33680  https://eda.ru/img/eda/c20x20i/s2.eda.ru/Stati...  \n",
       "33681  https://eda.ru/img/eda/c20x20i/s1.eda.ru/Stati...  \n",
       "33682  https://eda.ru/img/eda/c20x20i/s1.eda.ru/Stati...  \n",
       "\n",
       "[32260 rows x 5 columns]"
      ]
     },
     "execution_count": 60,
     "metadata": {},
     "output_type": "execute_result"
    }
   ],
   "source": [
    "import pandas as pd\n",
    "\n",
    "df = pd.DataFrame(\n",
    "    {\n",
    "        'meal_names': meal_names,\n",
    "        'meal_tags': meal_tags,\n",
    "        'meal_urls': meal_urls,\n",
    "        'meal_cousine_names': meal_cousine_names,\n",
    "        'meal_images': meal_images\n",
    "    }\n",
    ")\n",
    "df.drop_duplicates(subset=['meal_urls'], inplace=True)\n",
    "df"
   ]
  },
  {
   "cell_type": "code",
   "execution_count": 61,
   "id": "96e31054-d8f7-4b9c-8524-21d48d43d596",
   "metadata": {},
   "outputs": [
    {
     "data": {
      "text/html": [
       "<div>\n",
       "<style scoped>\n",
       "    .dataframe tbody tr th:only-of-type {\n",
       "        vertical-align: middle;\n",
       "    }\n",
       "\n",
       "    .dataframe tbody tr th {\n",
       "        vertical-align: top;\n",
       "    }\n",
       "\n",
       "    .dataframe thead th {\n",
       "        text-align: right;\n",
       "    }\n",
       "</style>\n",
       "<table border=\"1\" class=\"dataframe\">\n",
       "  <thead>\n",
       "    <tr style=\"text-align: right;\">\n",
       "      <th></th>\n",
       "      <th>meal_names</th>\n",
       "      <th>meal_tags</th>\n",
       "      <th>meal_urls</th>\n",
       "      <th>meal_cousine_names</th>\n",
       "      <th>meal_images</th>\n",
       "    </tr>\n",
       "  </thead>\n",
       "  <tbody>\n",
       "    <tr>\n",
       "      <th>0</th>\n",
       "      <td>Спагетти карбонара с красным луком</td>\n",
       "      <td>['Пошаговые рецепты', 'Паста и пицца', 'Италья...</td>\n",
       "      <td>https://eda.ru/recepty/pasta-picca/spagetti-ka...</td>\n",
       "      <td>Итальянская</td>\n",
       "      <td>https://eda.ru/img/eda/c20x20i/s2.eda.ru/Stati...</td>\n",
       "    </tr>\n",
       "    <tr>\n",
       "      <th>1</th>\n",
       "      <td>Лазанья классическая с мясом</td>\n",
       "      <td>['Пошаговые рецепты', 'Паста и пицца', 'Италья...</td>\n",
       "      <td>https://eda.ru/recepty/pasta-picca/lazanja-kla...</td>\n",
       "      <td>Итальянская</td>\n",
       "      <td>https://eda.ru/img/eda/c20x20i/s2.eda.ru/Stati...</td>\n",
       "    </tr>\n",
       "    <tr>\n",
       "      <th>2</th>\n",
       "      <td>Салат из красной фасоли с творожным сыром…</td>\n",
       "      <td>['Пошаговые рецепты', 'Салаты', 'Итальянская к...</td>\n",
       "      <td>https://eda.ru/recepty/salaty/salat-iz-krasnoj...</td>\n",
       "      <td>Итальянская</td>\n",
       "      <td>https://eda.ru/img/eda/c20x20i/s2.eda.ru/Stati...</td>\n",
       "    </tr>\n",
       "    <tr>\n",
       "      <th>3</th>\n",
       "      <td>Брускетта с помидорами</td>\n",
       "      <td>['Пошаговые рецепты', 'Закуски', 'Сэндвичи', '...</td>\n",
       "      <td>https://eda.ru/recepty/zakuski/brusketta-s-pom...</td>\n",
       "      <td>Итальянская</td>\n",
       "      <td>https://eda.ru/img/eda/c20x20i/s2.eda.ru/Stati...</td>\n",
       "    </tr>\n",
       "    <tr>\n",
       "      <th>4</th>\n",
       "      <td>Фриттата с брокколи и сладким перцем</td>\n",
       "      <td>['Пошаговые рецепты', 'Завтраки', 'Итальянская...</td>\n",
       "      <td>https://eda.ru/recepty/zavtraki/frittata-s-bro...</td>\n",
       "      <td>Итальянская</td>\n",
       "      <td>https://eda.ru/img/eda/c20x20i/s1.eda.ru/Stati...</td>\n",
       "    </tr>\n",
       "  </tbody>\n",
       "</table>\n",
       "</div>"
      ],
      "text/plain": [
       "                                   meal_names  \\\n",
       "0          Спагетти карбонара с красным луком   \n",
       "1                Лазанья классическая с мясом   \n",
       "2  Салат из красной фасоли с творожным сыром…   \n",
       "3                      Брускетта с помидорами   \n",
       "4        Фриттата с брокколи и сладким перцем   \n",
       "\n",
       "                                           meal_tags  \\\n",
       "0  ['Пошаговые рецепты', 'Паста и пицца', 'Италья...   \n",
       "1  ['Пошаговые рецепты', 'Паста и пицца', 'Италья...   \n",
       "2  ['Пошаговые рецепты', 'Салаты', 'Итальянская к...   \n",
       "3  ['Пошаговые рецепты', 'Закуски', 'Сэндвичи', '...   \n",
       "4  ['Пошаговые рецепты', 'Завтраки', 'Итальянская...   \n",
       "\n",
       "                                           meal_urls meal_cousine_names  \\\n",
       "0  https://eda.ru/recepty/pasta-picca/spagetti-ka...        Итальянская   \n",
       "1  https://eda.ru/recepty/pasta-picca/lazanja-kla...        Итальянская   \n",
       "2  https://eda.ru/recepty/salaty/salat-iz-krasnoj...        Итальянская   \n",
       "3  https://eda.ru/recepty/zakuski/brusketta-s-pom...        Итальянская   \n",
       "4  https://eda.ru/recepty/zavtraki/frittata-s-bro...        Итальянская   \n",
       "\n",
       "                                         meal_images  \n",
       "0  https://eda.ru/img/eda/c20x20i/s2.eda.ru/Stati...  \n",
       "1  https://eda.ru/img/eda/c20x20i/s2.eda.ru/Stati...  \n",
       "2  https://eda.ru/img/eda/c20x20i/s2.eda.ru/Stati...  \n",
       "3  https://eda.ru/img/eda/c20x20i/s2.eda.ru/Stati...  \n",
       "4  https://eda.ru/img/eda/c20x20i/s1.eda.ru/Stati...  "
      ]
     },
     "execution_count": 61,
     "metadata": {},
     "output_type": "execute_result"
    }
   ],
   "source": [
    "df.to_csv('meal_new_db.csv', encoding='utf-8', index=False)\n",
    "df = pd.read_csv('meal_new_db.csv')\n",
    "df.head()"
   ]
  },
  {
   "cell_type": "code",
   "execution_count": 62,
   "id": "807f2ff6-d0a8-474e-929e-d7d0699b2f4a",
   "metadata": {},
   "outputs": [
    {
     "data": {
      "text/html": [
       "<div>\n",
       "<style scoped>\n",
       "    .dataframe tbody tr th:only-of-type {\n",
       "        vertical-align: middle;\n",
       "    }\n",
       "\n",
       "    .dataframe tbody tr th {\n",
       "        vertical-align: top;\n",
       "    }\n",
       "\n",
       "    .dataframe thead th {\n",
       "        text-align: right;\n",
       "    }\n",
       "</style>\n",
       "<table border=\"1\" class=\"dataframe\">\n",
       "  <thead>\n",
       "    <tr style=\"text-align: right;\">\n",
       "      <th></th>\n",
       "      <th>meal_names</th>\n",
       "      <th>meal_tags</th>\n",
       "      <th>meal_urls</th>\n",
       "      <th>meal_cousine_names</th>\n",
       "      <th>meal_images</th>\n",
       "    </tr>\n",
       "  </thead>\n",
       "  <tbody>\n",
       "    <tr>\n",
       "      <th>18978</th>\n",
       "      <td>Салат с брокколи, медом и горчицей</td>\n",
       "      <td>['Салаты', 'Французская кухня', 'Вегетарианска...</td>\n",
       "      <td>https://eda.ru/recepty/salaty/salat-s-brokkoli...</td>\n",
       "      <td>Французская</td>\n",
       "      <td>https://eda.ru/img/eda/c20x20i/s1.eda.ru/Stati...</td>\n",
       "    </tr>\n",
       "  </tbody>\n",
       "</table>\n",
       "</div>"
      ],
      "text/plain": [
       "                               meal_names  \\\n",
       "18978  Салат с брокколи, медом и горчицей   \n",
       "\n",
       "                                               meal_tags  \\\n",
       "18978  ['Салаты', 'Французская кухня', 'Вегетарианска...   \n",
       "\n",
       "                                               meal_urls meal_cousine_names  \\\n",
       "18978  https://eda.ru/recepty/salaty/salat-s-brokkoli...        Французская   \n",
       "\n",
       "                                             meal_images  \n",
       "18978  https://eda.ru/img/eda/c20x20i/s1.eda.ru/Stati...  "
      ]
     },
     "execution_count": 62,
     "metadata": {},
     "output_type": "execute_result"
    }
   ],
   "source": [
    "indexes_match_queries = df.apply(\n",
    "    lambda row: 'брокколи' in row['meal_names'].lower(),\n",
    "    axis=1,\n",
    ")\n",
    "df[indexes_match_queries].sample(1)"
   ]
  },
  {
   "cell_type": "code",
   "execution_count": 63,
   "id": "8e777c9b-1078-4355-ab4c-b2a308ddb8a6",
   "metadata": {},
   "outputs": [],
   "source": [
    "class SimilarMealFinder:\n",
    "    \n",
    "    def __init__(self, data: pd.DataFrame):\n",
    "        self.data = data\n",
    "        \n",
    "    @staticmethod\n",
    "    def from_csv_path(csv_path: str):\n",
    "        return SimilarMealFinder(\n",
    "            pd.read_csv(csv_path),\n",
    "        )\n",
    "\n",
    "    @staticmethod\n",
    "    def from_excel_path(excel_path: str):\n",
    "        return SimilarMealFinder(\n",
    "            pd.read_excel(excel_path),\n",
    "        )    \n",
    "\n",
    "    def __call__(self, meal_query: str) -> str:\n",
    "        indexes_match_queries = self.data.apply(\n",
    "            lambda row: meal_query in row['meal_names'].lower(),\n",
    "            axis=1,\n",
    "        )\n",
    "        #return indexes_match_queries\n",
    "        data_sample = self.data[indexes_match_queries]\n",
    "        #return data_sample\n",
    "        most_likely_cousine = data_sample.meal_cousine_names.mode().iloc[0]\n",
    "        # Pick an arbitrary meal that matches the query.\n",
    "        random_query_response = data_sample[\n",
    "            data_sample['meal_cousine_names'] == most_likely_cousine\n",
    "        ].sample(1)\n",
    "        return random_query_response"
   ]
  },
  {
   "cell_type": "code",
   "execution_count": 64,
   "id": "c668ccbe-39e4-4bac-80e2-0810daff4809",
   "metadata": {},
   "outputs": [],
   "source": [
    "similar_meal_finder = SimilarMealFinder.from_csv_path('meal_new_db.csv')"
   ]
  },
  {
   "cell_type": "code",
   "execution_count": 66,
   "id": "a10c3742-05d0-49e7-bc9a-c23af59146bd",
   "metadata": {},
   "outputs": [
    {
     "data": {
      "text/html": [
       "<div>\n",
       "<style scoped>\n",
       "    .dataframe tbody tr th:only-of-type {\n",
       "        vertical-align: middle;\n",
       "    }\n",
       "\n",
       "    .dataframe tbody tr th {\n",
       "        vertical-align: top;\n",
       "    }\n",
       "\n",
       "    .dataframe thead th {\n",
       "        text-align: right;\n",
       "    }\n",
       "</style>\n",
       "<table border=\"1\" class=\"dataframe\">\n",
       "  <thead>\n",
       "    <tr style=\"text-align: right;\">\n",
       "      <th></th>\n",
       "      <th>meal_names</th>\n",
       "      <th>meal_tags</th>\n",
       "      <th>meal_urls</th>\n",
       "      <th>meal_cousine_names</th>\n",
       "      <th>meal_images</th>\n",
       "    </tr>\n",
       "  </thead>\n",
       "  <tbody>\n",
       "    <tr>\n",
       "      <th>5399</th>\n",
       "      <td>Креветки со сморчками и грибным маслом</td>\n",
       "      <td>['Закуски', 'Европейская кухня']</td>\n",
       "      <td>https://eda.ru/recepty/zakuski/krevetki-so-smo...</td>\n",
       "      <td>Европейская</td>\n",
       "      <td>https://eda.ru/img/eda/c20x20i/s1.eda.ru/Stati...</td>\n",
       "    </tr>\n",
       "  </tbody>\n",
       "</table>\n",
       "</div>"
      ],
      "text/plain": [
       "                                  meal_names  \\\n",
       "5399  Креветки со сморчками и грибным маслом   \n",
       "\n",
       "                             meal_tags  \\\n",
       "5399  ['Закуски', 'Европейская кухня']   \n",
       "\n",
       "                                              meal_urls meal_cousine_names  \\\n",
       "5399  https://eda.ru/recepty/zakuski/krevetki-so-smo...        Европейская   \n",
       "\n",
       "                                            meal_images  \n",
       "5399  https://eda.ru/img/eda/c20x20i/s1.eda.ru/Stati...  "
      ]
     },
     "execution_count": 66,
     "metadata": {},
     "output_type": "execute_result"
    }
   ],
   "source": [
    "similar_meal_finder('креветки')"
   ]
  },
  {
   "cell_type": "code",
   "execution_count": 67,
   "id": "b4e81b37-fe41-4f86-ae92-1d4cbe6d0901",
   "metadata": {},
   "outputs": [
    {
     "data": {
      "text/html": [
       "<div>\n",
       "<style scoped>\n",
       "    .dataframe tbody tr th:only-of-type {\n",
       "        vertical-align: middle;\n",
       "    }\n",
       "\n",
       "    .dataframe tbody tr th {\n",
       "        vertical-align: top;\n",
       "    }\n",
       "\n",
       "    .dataframe thead th {\n",
       "        text-align: right;\n",
       "    }\n",
       "</style>\n",
       "<table border=\"1\" class=\"dataframe\">\n",
       "  <thead>\n",
       "    <tr style=\"text-align: right;\">\n",
       "      <th></th>\n",
       "      <th>meal_names</th>\n",
       "      <th>meal_tags</th>\n",
       "      <th>meal_urls</th>\n",
       "      <th>meal_cousine_names</th>\n",
       "      <th>meal_images</th>\n",
       "    </tr>\n",
       "  </thead>\n",
       "  <tbody>\n",
       "    <tr>\n",
       "      <th>5930</th>\n",
       "      <td>Киш с брокколи и томатами</td>\n",
       "      <td>['Выпечка и десерты', 'Европейская кухня']</td>\n",
       "      <td>https://eda.ru/recepty/vypechka-deserty/kish-s...</td>\n",
       "      <td>Европейская</td>\n",
       "      <td>https://eda.ru/img/eda/c20x20i/s1.eda.ru/Stati...</td>\n",
       "    </tr>\n",
       "  </tbody>\n",
       "</table>\n",
       "</div>"
      ],
      "text/plain": [
       "                     meal_names                                   meal_tags  \\\n",
       "5930  Киш с брокколи и томатами  ['Выпечка и десерты', 'Европейская кухня']   \n",
       "\n",
       "                                              meal_urls meal_cousine_names  \\\n",
       "5930  https://eda.ru/recepty/vypechka-deserty/kish-s...        Европейская   \n",
       "\n",
       "                                            meal_images  \n",
       "5930  https://eda.ru/img/eda/c20x20i/s1.eda.ru/Stati...  "
      ]
     },
     "execution_count": 67,
     "metadata": {},
     "output_type": "execute_result"
    }
   ],
   "source": [
    "similar_meal_finder('брокколи')"
   ]
  },
  {
   "cell_type": "code",
   "execution_count": null,
   "id": "42d86e94-0cc7-47e3-81c9-54b2f30af244",
   "metadata": {},
   "outputs": [],
   "source": []
  },
  {
   "cell_type": "markdown",
   "id": "f522e96b-3aaf-4cd8-8612-e12b8f30c722",
   "metadata": {},
   "source": [
    "# 3. API  \n",
    "__API (Application Programming Interface)__ — this is a ready-made code that you can insert into your code! Many services, including Google and Vkontakte, provide their own ready-made solutions for your development\n",
    "\n",
    "Examples: \n",
    "\n",
    "* [VK API](https://vk.com/dev/methods)\n",
    "* [API Twitter](https://developer.twitter.com/en/docs.html) ,\n",
    "* [API YouTube](https://developers.google.com/youtube/v3/)\n",
    "* [API Google Maps](https://developers.google.com/maps/documentation/) \n",
    "* [Aviasales](https://www.aviasales.ru/API)\n",
    "* [Yandex Translate](https://yandex.ru/dev/translate/)"
   ]
  },
  {
   "cell_type": "code",
   "execution_count": 68,
   "id": "ff89aa7f-e514-4ba8-8300-36c9cce38930",
   "metadata": {},
   "outputs": [],
   "source": [
    "with open('google-dev-token.txt') as f:\n",
    "    google_token = f.read()"
   ]
  },
  {
   "cell_type": "markdown",
   "id": "00df00e9-1e32-4770-bedc-c4ecbf10b2e7",
   "metadata": {},
   "source": [
    "Работать со своими API токенами можно тут: https://console.cloud.google.com/apis/credentials"
   ]
  },
  {
   "cell_type": "code",
   "execution_count": null,
   "id": "6fb3c5e5-d5c7-4786-b90e-57c47f1ab71b",
   "metadata": {},
   "outputs": [],
   "source": [
    "mainpage = 'https://maps.googleapis.com/maps/api/place/nearbysearch/json?'\n",
    "\n",
    "location = '55.86,37.54'\n",
    "radius = '3000'\n",
    "keyword = 'креветки' # coffee shop\n",
    "\n",
    "parameters = 'location='+location+'&radius='+radius+'&keyword='+keyword+'&language=ru-Ru'+'&key=' + google_token\n",
    "\n",
    "final_url = mainpage + parameters \n",
    "\n",
    "# Your Google API token should appear below, don't disclose it. Disable the token in case it's compromised.\n",
    "final_url"
   ]
  },
  {
   "cell_type": "code",
   "execution_count": 72,
   "id": "0b451198-f02b-4591-a221-427856715b59",
   "metadata": {
    "tags": []
   },
   "outputs": [
    {
     "data": {
      "text/plain": [
       "[{'business_status': 'OPERATIONAL',\n",
       "  'geometry': {'location': {'lat': 55.883247, 'lng': 37.498813},\n",
       "   'viewport': {'northeast': {'lat': 55.88450327989272,\n",
       "     'lng': 37.50019707989271},\n",
       "    'southwest': {'lat': 55.88180362010728, 'lng': 37.49749742010727}}},\n",
       "  'icon': 'https://maps.gstatic.com/mapfiles/place_api/icons/v1/png_71/shopping-71.png',\n",
       "  'name': 'Рыбоедовъ',\n",
       "  'opening_hours': {'open_now': False},\n",
       "  'photos': [{'height': 800,\n",
       "    'html_attributions': ['<a href=\"https://maps.google.com/maps/contrib/108999907613617595257\">A Google User</a>'],\n",
       "    'photo_reference': 'Aap_uEBS4AkIzETFbxa2X_-BaW32ZT2IRWbesFRLXvFZBTJRw-djIO7Czmm7MtH1XVDKYGCQQoU4fssM3WXKS8r2iQr-OCz9ijzjN7G8-opRdkKQfASDe-Ww5_EkvBDzlSGsHwI6zjGKP2ZvhwZOmOCgf7OXQxOpaKbg17mrFvKrMGqCJLw3',\n",
       "    'width': 800}],\n",
       "  'place_id': 'ChIJ0cKUycw5tUYRrFbh3yjs7Aw',\n",
       "  'plus_code': {'compound_code': 'VFMX+7G р-н Западное Дегунино, Москва',\n",
       "   'global_code': '9G7VVFMX+7G'},\n",
       "  'rating': 5,\n",
       "  'reference': 'ChIJ0cKUycw5tUYRrFbh3yjs7Aw',\n",
       "  'scope': 'GOOGLE',\n",
       "  'types': ['grocery_or_supermarket',\n",
       "   'food',\n",
       "   'point_of_interest',\n",
       "   'store',\n",
       "   'establishment'],\n",
       "  'user_ratings_total': 484,\n",
       "  'vicinity': 'Ижорская ул., 7, стр. 1, Москва'},\n",
       " {'business_status': 'OPERATIONAL',\n",
       "  'geometry': {'location': {'lat': 55.8563351, 'lng': 37.5827126},\n",
       "   'viewport': {'northeast': {'lat': 55.85760897989272,\n",
       "     'lng': 37.58409842989272},\n",
       "    'southwest': {'lat': 55.85490932010727, 'lng': 37.58139877010728}}},\n",
       "  'icon': 'https://maps.gstatic.com/mapfiles/place_api/icons/v1/png_71/generic_business-71.png',\n",
       "  'name': 'КОНТИНЕНТ \\xadСИФУД',\n",
       "  'place_id': 'ChIJM9NBiKk3tUYRZCRzqJQSvl0',\n",
       "  'plus_code': {'compound_code': 'VH4M+G3 р-н Отрадное, Москва',\n",
       "   'global_code': '9G7VVH4M+G3'},\n",
       "  'rating': 0,\n",
       "  'reference': 'ChIJM9NBiKk3tUYRZCRzqJQSvl0',\n",
       "  'scope': 'GOOGLE',\n",
       "  'types': ['food', 'point_of_interest', 'establishment'],\n",
       "  'user_ratings_total': 0,\n",
       "  'vicinity': 'Москва, ш, Алтуфьевское ш., д.27, Москва'},\n",
       " {'business_status': 'OPERATIONAL',\n",
       "  'geometry': {'location': {'lat': 55.8860109, 'lng': 37.5005223},\n",
       "   'viewport': {'northeast': {'lat': 55.88704792989272, 'lng': 37.5030978},\n",
       "    'southwest': {'lat': 55.88434827010728, 'lng': 37.49966379999999}}},\n",
       "  'icon': 'https://maps.gstatic.com/mapfiles/place_api/icons/v1/png_71/shopping-71.png',\n",
       "  'name': 'Магазин морепродуктов Каймару',\n",
       "  'opening_hours': {'open_now': False},\n",
       "  'place_id': 'ChIJ2wVQlzQ4tUYRHPoQ5tWSHyo',\n",
       "  'plus_code': {'compound_code': 'VGP2+C6 р-н Западное Дегунино, Москва',\n",
       "   'global_code': '9G7VVGP2+C6'},\n",
       "  'rating': 0,\n",
       "  'reference': 'ChIJ2wVQlzQ4tUYRHPoQ5tWSHyo',\n",
       "  'scope': 'GOOGLE',\n",
       "  'types': ['food', 'point_of_interest', 'store', 'establishment'],\n",
       "  'user_ratings_total': 0,\n",
       "  'vicinity': 'Москва'},\n",
       " {'business_status': 'OPERATIONAL',\n",
       "  'geometry': {'location': {'lat': 55.8864096, 'lng': 37.5063583},\n",
       "   'viewport': {'northeast': {'lat': 55.88775942989272,\n",
       "     'lng': 37.50770812989272},\n",
       "    'southwest': {'lat': 55.88505977010728, 'lng': 37.50500847010727}}},\n",
       "  'icon': 'https://maps.gstatic.com/mapfiles/place_api/icons/v1/png_71/generic_business-71.png',\n",
       "  'name': 'Море рыбы',\n",
       "  'place_id': 'ChIJ0cKUycw5tUYRJOGneo-2Ns0',\n",
       "  'plus_code': {'compound_code': 'VGP4+HG р-н Западное Дегунино, Москва',\n",
       "   'global_code': '9G7VVGP4+HG'},\n",
       "  'rating': 0,\n",
       "  'reference': 'ChIJ0cKUycw5tUYRJOGneo-2Ns0',\n",
       "  'scope': 'GOOGLE',\n",
       "  'types': ['food', 'point_of_interest', 'establishment'],\n",
       "  'user_ratings_total': 0,\n",
       "  'vicinity': 'Ижорская ул., 7, Москва'},\n",
       " {'business_status': 'OPERATIONAL',\n",
       "  'geometry': {'location': {'lat': 55.843669, 'lng': 37.5284973},\n",
       "   'viewport': {'northeast': {'lat': 55.84493222989272,\n",
       "     'lng': 37.52989207989271},\n",
       "    'southwest': {'lat': 55.84223257010728, 'lng': 37.52719242010727}}},\n",
       "  'icon': 'https://maps.gstatic.com/mapfiles/place_api/icons/v1/png_71/generic_business-71.png',\n",
       "  'name': 'Большой Раковски - доставка раков и морепродуктов',\n",
       "  'opening_hours': {'open_now': False},\n",
       "  'photos': [{'height': 1080,\n",
       "    'html_attributions': ['<a href=\"https://maps.google.com/maps/contrib/111858574902421542843\">A Google User</a>'],\n",
       "    'photo_reference': 'Aap_uEBdczbj3aoJG2daEORP_xP_RYnnxEEg7LgGQgKWe2KS1i1y9ho4j1IwOo73FkY8ovGKOyeBZqWNqxXQ3u8Y8MAjMeNlJRUAfo_OYR78zzw7G_nWO_RB6nzeZ_7kD4S1wnS5qDgaESrE2HEoGlfAxPYavceiE2zwoo5upyhGJzQZj8Xx',\n",
       "    'width': 1080}],\n",
       "  'place_id': 'ChIJdQcAXcU3tUYR70jZVKQ7uT4',\n",
       "  'plus_code': {'compound_code': 'RGVH+F9 Головинский р-н, Москва',\n",
       "   'global_code': '9G7VRGVH+F9'},\n",
       "  'rating': 4.8,\n",
       "  'reference': 'ChIJdQcAXcU3tUYR70jZVKQ7uT4',\n",
       "  'scope': 'GOOGLE',\n",
       "  'types': ['meal_delivery', 'food', 'point_of_interest', 'establishment'],\n",
       "  'user_ratings_total': 4,\n",
       "  'vicinity': 'Пакгаузное ш., 7, Москва'},\n",
       " {'business_status': 'OPERATIONAL',\n",
       "  'geometry': {'location': {'lat': 55.8877012, 'lng': 37.5000661},\n",
       "   'viewport': {'northeast': {'lat': 55.88915712989272,\n",
       "     'lng': 37.50148862989272},\n",
       "    'southwest': {'lat': 55.88645747010728, 'lng': 37.49878897010728}}},\n",
       "  'icon': 'https://maps.gstatic.com/mapfiles/place_api/icons/v1/png_71/generic_business-71.png',\n",
       "  'name': 'ООО \"Морские легенды\" - рыба, морепродукты оптом',\n",
       "  'opening_hours': {'open_now': False},\n",
       "  'photos': [{'height': 574,\n",
       "    'html_attributions': ['<a href=\"https://maps.google.com/maps/contrib/105983363551977299524\">A Google User</a>'],\n",
       "    'photo_reference': 'Aap_uEA4KqdayrqhWTSPKjHNnY3Ke8kNHwbDcYIqTD3Be8A1A2TTdgH4P86dAdnfhN688xJ6-0dPKkcgol7o0S8nYm6OrAFwbMMCXeZNEtn9tPXvLxSJwYaAh6YeIBNH6mnvtbOVlaTqudNs-q8CrEOdqXBD3GGW9U_bCeRns8DnX5nDVmln',\n",
       "    'width': 979}],\n",
       "  'place_id': 'ChIJE1Kmgmc5tUYRTfiwjYzUWYE',\n",
       "  'plus_code': {'compound_code': 'VGQ2+32 р-н Западное Дегунино, Москва',\n",
       "   'global_code': '9G7VVGQ2+32'},\n",
       "  'rating': 3,\n",
       "  'reference': 'ChIJE1Kmgmc5tUYRTfiwjYzUWYE',\n",
       "  'scope': 'GOOGLE',\n",
       "  'types': ['food', 'point_of_interest', 'store', 'establishment'],\n",
       "  'user_ratings_total': 2,\n",
       "  'vicinity': 'ул. ижоРСКАЯ, д. 7, Москва'},\n",
       " {'business_status': 'OPERATIONAL',\n",
       "  'geometry': {'location': {'lat': 55.835327, 'lng': 37.544149},\n",
       "   'viewport': {'northeast': {'lat': 55.83654747989272,\n",
       "     'lng': 37.54539642989272},\n",
       "    'southwest': {'lat': 55.83384782010727, 'lng': 37.54269677010728}}},\n",
       "  'icon': 'https://maps.gstatic.com/mapfiles/place_api/icons/v1/png_71/shopping-71.png',\n",
       "  'name': 'Икорная лавка',\n",
       "  'opening_hours': {'open_now': False},\n",
       "  'photos': [{'height': 2619,\n",
       "    'html_attributions': ['<a href=\"https://maps.google.com/maps/contrib/115843490761039303384\">Икорная лавка</a>'],\n",
       "    'photo_reference': 'Aap_uED9wmwLHLzQqtjwrjbHqJUgSJV3IbIC2Si-StjlN870EM4au8YJ2Pc4TLhIQm8mZ7JyYcH27dk6TDJ8iFRsitoqammdxJ6pQBlsk1_ixp2qKZDWDixQo81-Kjrtjt294vlOrTE-NmSX8gKw6kXaI98YdYGLZYZTNtHmrUjpLpRg9CYU',\n",
       "    'width': 1908}],\n",
       "  'place_id': 'ChIJ7XtLQc43tUYRvxLej322MHE',\n",
       "  'plus_code': {'compound_code': 'RGPV+4M Тимирязевский р-н, Москва',\n",
       "   'global_code': '9G7VRGPV+4M'},\n",
       "  'rating': 4.8,\n",
       "  'reference': 'ChIJ7XtLQc43tUYRvxLej322MHE',\n",
       "  'scope': 'GOOGLE',\n",
       "  'types': ['food', 'point_of_interest', 'store', 'establishment'],\n",
       "  'user_ratings_total': 91,\n",
       "  'vicinity': 'ул. Прянишникова, 3, стр.1, Москва'},\n",
       " {'business_status': 'OPERATIONAL',\n",
       "  'geometry': {'location': {'lat': 55.8611905, 'lng': 37.5163608},\n",
       "   'viewport': {'northeast': {'lat': 55.86249682989272,\n",
       "     'lng': 37.51738642989272},\n",
       "    'southwest': {'lat': 55.85979717010728, 'lng': 37.51468677010728}}},\n",
       "  'icon': 'https://maps.gstatic.com/mapfiles/place_api/icons/v1/png_71/shopping-71.png',\n",
       "  'name': 'Креветка',\n",
       "  'place_id': 'ChIJM8FO2cQUtUYRzIMI_hN3ViE',\n",
       "  'rating': 0,\n",
       "  'reference': 'ChIJM8FO2cQUtUYRzIMI_hN3ViE',\n",
       "  'scope': 'GOOGLE',\n",
       "  'types': ['food', 'point_of_interest', 'establishment'],\n",
       "  'user_ratings_total': 0,\n",
       "  'vicinity': '25А, Стр 2, Москва'},\n",
       " {'business_status': 'OPERATIONAL',\n",
       "  'geometry': {'location': {'lat': 55.8871251, 'lng': 37.5016341},\n",
       "   'viewport': {'northeast': {'lat': 55.88857337989273,\n",
       "     'lng': 37.50310697989271},\n",
       "    'southwest': {'lat': 55.88587372010728, 'lng': 37.50040732010727}}},\n",
       "  'icon': 'https://maps.gstatic.com/mapfiles/place_api/icons/v1/png_71/generic_business-71.png',\n",
       "  'name': 'ООО ГЛАВРЫБТОРГ',\n",
       "  'opening_hours': {'open_now': False},\n",
       "  'photos': [{'height': 3376,\n",
       "    'html_attributions': ['<a href=\"https://maps.google.com/maps/contrib/104031817144223189754\">7 Морей (S&amp;F Product)</a>'],\n",
       "    'photo_reference': 'Aap_uEAvdKTHtHeuDb-6SP-GQv6CHlVLb7B3836fOXpqKqk2l9l3AmArml0rDd2iwwCxsmKW79ure8YoVhBZ6O0McfoOsqF5x0M_6_c0CD8dER__-NUYPI1N_1sNF2XaZzk6lDig76Hzu8ZFeN6sevZX67wiKJ_3Mpiv_Lu2nGdGmFUbQXVy',\n",
       "    'width': 6000}],\n",
       "  'place_id': 'ChIJH5kFtl4UtUYRbUDmgubqZhQ',\n",
       "  'plus_code': {'compound_code': 'VGP2+VM р-н Западное Дегунино, Москва',\n",
       "   'global_code': '9G7VVGP2+VM'},\n",
       "  'rating': 3,\n",
       "  'reference': 'ChIJH5kFtl4UtUYRbUDmgubqZhQ',\n",
       "  'scope': 'GOOGLE',\n",
       "  'types': ['point_of_interest', 'establishment'],\n",
       "  'user_ratings_total': 2,\n",
       "  'vicinity': 'Ижорская ул., 7, Москва'},\n",
       " {'business_status': 'OPERATIONAL',\n",
       "  'geometry': {'location': {'lat': 55.87026789999999, 'lng': 37.5156097},\n",
       "   'viewport': {'northeast': {'lat': 55.87168747989272,\n",
       "     'lng': 37.51676827989272},\n",
       "    'southwest': {'lat': 55.86898782010728, 'lng': 37.51406862010728}}},\n",
       "  'icon': 'https://maps.gstatic.com/mapfiles/place_api/icons/v1/png_71/shopping-71.png',\n",
       "  'name': 'Mosaquafish Московская Аквариумная Рыба',\n",
       "  'opening_hours': {'open_now': False},\n",
       "  'photos': [{'height': 960,\n",
       "    'html_attributions': ['<a href=\"https://maps.google.com/maps/contrib/114894103238974884694\">A Google User</a>'],\n",
       "    'photo_reference': 'Aap_uEB4-YN0a_dJTJfR7t_ocdpMQ63ENeGsCAHMVBajEM46xNqvfCepNKH4mX367LwGGKuRarRU3x_pHO4q0swTq_UdCAY4-yvbIoZMJcBD_n1fbb8wRYCMrYPosV4ww_lnnemzYzq41--_PJ3GR-tIqAZb6dIzyWBQGVXCneH_RbbN5GVY',\n",
       "    'width': 506}],\n",
       "  'place_id': 'ChIJ87cKcoc3tUYRaR-BuhEVou0',\n",
       "  'plus_code': {'compound_code': 'VGC8+46 р-н Западное Дегунино, Москва',\n",
       "   'global_code': '9G7VVGC8+46'},\n",
       "  'rating': 5,\n",
       "  'reference': 'ChIJ87cKcoc3tUYRaR-BuhEVou0',\n",
       "  'scope': 'GOOGLE',\n",
       "  'types': ['pet_store', 'point_of_interest', 'store', 'establishment'],\n",
       "  'user_ratings_total': 1,\n",
       "  'vicinity': 'ул. Талдомская, ул 2Гс1, Москва'},\n",
       " {'business_status': 'OPERATIONAL',\n",
       "  'geometry': {'location': {'lat': 55.850978, 'lng': 37.580508},\n",
       "   'viewport': {'northeast': {'lat': 55.85213517989272,\n",
       "     'lng': 37.58179222989272},\n",
       "    'southwest': {'lat': 55.84943552010728, 'lng': 37.57909257010728}}},\n",
       "  'icon': 'https://maps.gstatic.com/mapfiles/place_api/icons/v1/png_71/shopping-71.png',\n",
       "  'name': 'КРАБ ИКРА РЫБА оптом и в розницу от производителя',\n",
       "  'opening_hours': {'open_now': False},\n",
       "  'place_id': 'ChIJhYkeyi-zSkERiD45gskL4KI',\n",
       "  'plus_code': {'compound_code': 'VH2J+96 р-н Отрадное, Москва',\n",
       "   'global_code': '9G7VVH2J+96'},\n",
       "  'rating': 4,\n",
       "  'reference': 'ChIJhYkeyi-zSkERiD45gskL4KI',\n",
       "  'scope': 'GOOGLE',\n",
       "  'types': ['restaurant',\n",
       "   'food',\n",
       "   'point_of_interest',\n",
       "   'store',\n",
       "   'establishment'],\n",
       "  'user_ratings_total': 1,\n",
       "  'vicinity': 'Нововладыкинский пр-д, 2, Москва'},\n",
       " {'business_status': 'OPERATIONAL',\n",
       "  'geometry': {'location': {'lat': 55.851738, 'lng': 37.520102},\n",
       "   'viewport': {'northeast': {'lat': 55.85303902989272,\n",
       "     'lng': 37.52113967989272},\n",
       "    'southwest': {'lat': 55.85033937010728, 'lng': 37.51844002010728}}},\n",
       "  'icon': 'https://maps.gstatic.com/mapfiles/place_api/icons/v1/png_71/shopping-71.png',\n",
       "  'name': 'Перекрёсток',\n",
       "  'opening_hours': {'open_now': False},\n",
       "  'photos': [{'height': 1536,\n",
       "    'html_attributions': ['<a href=\"https://maps.google.com/maps/contrib/103554702933495060072\">Алексей К.</a>'],\n",
       "    'photo_reference': 'Aap_uEDQVPlS3zHUs0pnSrsyrBhDPoaSonYzCAnqJcb-hREpE12M4ViFe9CCgy6QT5F_-H_VTSrywh7txwPMgB2_a8X_hFU6yiawMyeKxKJR0voMlWepi08D14nlILg9h8myoGO_wCZmo6Nzk_EBuBUC1cX280qOzseViUfkMQ7Bq72avWXP',\n",
       "    'width': 2048}],\n",
       "  'place_id': 'ChIJ3fCZcOk3tUYRCHO9H5sXqzk',\n",
       "  'plus_code': {'compound_code': 'VG2C+M2 Головинский р-н, Москва',\n",
       "   'global_code': '9G7VVG2C+M2'},\n",
       "  'rating': 4.2,\n",
       "  'reference': 'ChIJ3fCZcOk3tUYRCHO9H5sXqzk',\n",
       "  'scope': 'GOOGLE',\n",
       "  'types': ['supermarket',\n",
       "   'grocery_or_supermarket',\n",
       "   'food',\n",
       "   'point_of_interest',\n",
       "   'store',\n",
       "   'establishment'],\n",
       "  'user_ratings_total': 535,\n",
       "  'vicinity': 'ул. Онежская, 20, Москва'},\n",
       " {'business_status': 'OPERATIONAL',\n",
       "  'geometry': {'location': {'lat': 55.858869, 'lng': 37.5106231},\n",
       "   'viewport': {'northeast': {'lat': 55.86020642989272,\n",
       "     'lng': 37.51193757989272},\n",
       "    'southwest': {'lat': 55.85750677010728, 'lng': 37.50923792010728}}},\n",
       "  'icon': 'https://maps.gstatic.com/mapfiles/place_api/icons/v1/png_71/shopping-71.png',\n",
       "  'name': 'Перекрёсток',\n",
       "  'opening_hours': {'open_now': False},\n",
       "  'photos': [{'height': 2564,\n",
       "    'html_attributions': ['<a href=\"https://maps.google.com/maps/contrib/100904900756164452646\">Вера Суворин</a>'],\n",
       "    'photo_reference': 'Aap_uEA4dsiGnZV5ic9oAWdjWV9i_LFUQBTMHYjSbuDaQ-2XKrydMJwN3gPyHA5_cc16KI5kAwwbpAh5gGW_gO0EEN7xZ3YNOMKwJjWrifUzyAGA5cfZp1PN-ZdWxU8ltTmiG60kzGp3eCQ-LUVn1LiYcXKrnSICxHLu4QeCpuuX66YeR4On',\n",
       "    'width': 3733}],\n",
       "  'place_id': 'ChIJn4GcsIw3tUYRkeX21LW1v48',\n",
       "  'plus_code': {'compound_code': 'VG56+G6 Головинский р-н, Москва',\n",
       "   'global_code': '9G7VVG56+G6'},\n",
       "  'rating': 4.3,\n",
       "  'reference': 'ChIJn4GcsIw3tUYRkeX21LW1v48',\n",
       "  'scope': 'GOOGLE',\n",
       "  'types': ['supermarket',\n",
       "   'grocery_or_supermarket',\n",
       "   'food',\n",
       "   'point_of_interest',\n",
       "   'store',\n",
       "   'establishment'],\n",
       "  'user_ratings_total': 1223,\n",
       "  'vicinity': 'ул. Онежская, 34, Москва'},\n",
       " {'business_status': 'OPERATIONAL',\n",
       "  'geometry': {'location': {'lat': 55.852339, 'lng': 37.579091},\n",
       "   'viewport': {'northeast': {'lat': 55.85333607989273,\n",
       "     'lng': 37.57976874999999},\n",
       "    'southwest': {'lat': 55.85063642010728, 'lng': 37.57705775000001}}},\n",
       "  'icon': 'https://maps.gstatic.com/mapfiles/place_api/icons/v1/png_71/generic_business-71.png',\n",
       "  'name': 'ООО \"РЫБКА.РУ\"',\n",
       "  'opening_hours': {'open_now': False},\n",
       "  'photos': [{'height': 2848,\n",
       "    'html_attributions': ['<a href=\"https://maps.google.com/maps/contrib/101736937391419991660\">A Google User</a>'],\n",
       "    'photo_reference': 'Aap_uEDd2TsXhVw0zBzt4WRK0pnBpWWAZyTaaA9-p8tSKYtNYnfCIWyBOliVnzVyjuodc7R4tJzN4IAvMuI5L50LN2DhIOTkMavQGDgdLdbk9RLh4oM4MUdw1hqkwU8WcVFmUJIa6_1s3sHLC7vXP249zO8hV1qK9CW98A6Z20L7zIP7VD0p',\n",
       "    'width': 4272}],\n",
       "  'place_id': 'ChIJj06YVC83tUYREvYYvG2XZMw',\n",
       "  'plus_code': {'compound_code': 'VH2H+WJ р-н Отрадное, Москва',\n",
       "   'global_code': '9G7VVH2H+WJ'},\n",
       "  'rating': 0,\n",
       "  'reference': 'ChIJj06YVC83tUYREvYYvG2XZMw',\n",
       "  'scope': 'GOOGLE',\n",
       "  'types': ['food', 'point_of_interest', 'establishment'],\n",
       "  'user_ratings_total': 0,\n",
       "  'vicinity': 'Нововладыкинский пр-д, 2, строение 3, Москва'},\n",
       " {'business_status': 'OPERATIONAL',\n",
       "  'geometry': {'location': {'lat': 55.856959, 'lng': 37.5578767},\n",
       "   'viewport': {'northeast': {'lat': 55.85836412989272,\n",
       "     'lng': 37.55916202989273},\n",
       "    'southwest': {'lat': 55.85566447010728, 'lng': 37.55646237010728}}},\n",
       "  'icon': 'https://maps.gstatic.com/mapfiles/place_api/icons/v1/png_71/shopping-71.png',\n",
       "  'name': 'Перекрёсток',\n",
       "  'opening_hours': {'open_now': False},\n",
       "  'photos': [{'height': 2592,\n",
       "    'html_attributions': ['<a href=\"https://maps.google.com/maps/contrib/103943177562056624838\">zarth arn</a>'],\n",
       "    'photo_reference': 'Aap_uEAabFmsOk18i_BJ3VjgKEhVe4xJalHnq45jFubkREQgLHQG77tlE_n3p_RFJWWR00lGImP6sARIeJ8K1IBnSXDujEcp8JqRuBp7AnAipo2X-9m9XGXRkbEJv2VNPUq3NhlIFBI3jvDWsBSJxO588NIaHXHjuFCMSKFG_p9X3iFMkN3o',\n",
       "    'width': 4608}],\n",
       "  'place_id': 'ChIJDVRHQzI3tUYR-zbHaTPQ3c4',\n",
       "  'plus_code': {'compound_code': 'VH45+Q5 р-н Западное Дегунино, Москва',\n",
       "   'global_code': '9G7VVH45+Q5'},\n",
       "  'rating': 4.1,\n",
       "  'reference': 'ChIJDVRHQzI3tUYR-zbHaTPQ3c4',\n",
       "  'scope': 'GOOGLE',\n",
       "  'types': ['supermarket',\n",
       "   'grocery_or_supermarket',\n",
       "   'food',\n",
       "   'point_of_interest',\n",
       "   'store',\n",
       "   'establishment'],\n",
       "  'user_ratings_total': 62,\n",
       "  'vicinity': 'Дмитровское ш., 73, Москва'},\n",
       " {'business_status': 'OPERATIONAL',\n",
       "  'geometry': {'location': {'lat': 55.86404, 'lng': 37.55131},\n",
       "   'viewport': {'northeast': {'lat': 55.86534132989272,\n",
       "     'lng': 37.55229837989273},\n",
       "    'southwest': {'lat': 55.86264167010728, 'lng': 37.54959872010728}}},\n",
       "  'icon': 'https://maps.gstatic.com/mapfiles/place_api/icons/v1/png_71/shopping-71.png',\n",
       "  'name': 'Перекрёсток',\n",
       "  'opening_hours': {'open_now': True},\n",
       "  'photos': [{'height': 1080,\n",
       "    'html_attributions': ['<a href=\"https://maps.google.com/maps/contrib/101512106159262428655\">Dmitry Mininkov</a>'],\n",
       "    'photo_reference': 'Aap_uEC7y4Jb6vmbgrDF3SNa_Od-87iTdCooSlCi-Am3nzrv2WXzrv1OJInKGwS9knTHCjo_Y7ZwhmAncpw-7freqXvz1NaDHpgGISs9htR2n6wnhAqH7MLb1aWmnCMAU11BmsQ7QGeMj8DMN6myccvcFbX4B0mszDr_4c2RYcJFtYKbQBY6',\n",
       "    'width': 1920}],\n",
       "  'place_id': 'ChIJg8C135c3tUYRp84KBej5lXI',\n",
       "  'plus_code': {'compound_code': 'VH72+JG Бескудниковский р-н, Москва',\n",
       "   'global_code': '9G7VVH72+JG'},\n",
       "  'rating': 4.7,\n",
       "  'reference': 'ChIJg8C135c3tUYRp84KBej5lXI',\n",
       "  'scope': 'GOOGLE',\n",
       "  'types': ['supermarket',\n",
       "   'grocery_or_supermarket',\n",
       "   'food',\n",
       "   'point_of_interest',\n",
       "   'store',\n",
       "   'establishment'],\n",
       "  'user_ratings_total': 311,\n",
       "  'vicinity': 'Дмитровское ш., 80, Москва'},\n",
       " {'business_status': 'OPERATIONAL',\n",
       "  'geometry': {'location': {'lat': 55.8837, 'lng': 37.515088},\n",
       "   'viewport': {'northeast': {'lat': 55.88510797989272,\n",
       "     'lng': 37.51661892989272},\n",
       "    'southwest': {'lat': 55.88240832010728, 'lng': 37.51391927010727}}},\n",
       "  'icon': 'https://maps.gstatic.com/mapfiles/place_api/icons/v1/png_71/generic_business-71.png',\n",
       "  'name': 'Сердекс',\n",
       "  'place_id': 'ChIJORM0xtI5tUYRFqth5zHAmzk',\n",
       "  'plus_code': {'compound_code': 'VGM8+F2 р-н Западное Дегунино, Москва',\n",
       "   'global_code': '9G7VVGM8+F2'},\n",
       "  'rating': 5,\n",
       "  'reference': 'ChIJORM0xtI5tUYRFqth5zHAmzk',\n",
       "  'scope': 'GOOGLE',\n",
       "  'types': ['point_of_interest', 'establishment'],\n",
       "  'user_ratings_total': 1,\n",
       "  'vicinity': 'Коровинское ш., 35, Москва'},\n",
       " {'business_status': 'OPERATIONAL',\n",
       "  'geometry': {'location': {'lat': 55.86388890000001, 'lng': 37.5452778},\n",
       "   'viewport': {'northeast': {'lat': 55.86537622989272,\n",
       "     'lng': 37.54682992989272},\n",
       "    'southwest': {'lat': 55.86267657010728, 'lng': 37.54413027010727}}},\n",
       "  'icon': 'https://maps.gstatic.com/mapfiles/place_api/icons/v1/png_71/shopping-71.png',\n",
       "  'name': 'Перекрёсток',\n",
       "  'opening_hours': {'open_now': False},\n",
       "  'photos': [{'height': 2240,\n",
       "    'html_attributions': ['<a href=\"https://maps.google.com/maps/contrib/105132539122274563378\">Rost S.</a>'],\n",
       "    'photo_reference': 'Aap_uECBs_TPebhYluXjCmzwyTIShu1syjUbzwK2cVOt3M9cUUKrXx4wYSOFZvaclSPYRmS15SWYa46jezf5nBCcD18-yDKPUnr3ULFKVMz3TrlzmLm6h151yfRZ_6sKCQRz7IKYlsejVJit_gfCMUfevGL8mODyIJcxpSTm4-YPGPHXk7of',\n",
       "    'width': 3968}],\n",
       "  'place_id': 'ChIJj6blQZk3tUYRD51unxIEK7I',\n",
       "  'plus_code': {'compound_code': 'VG7W+H4 р-н Западное Дегунино, Москва',\n",
       "   'global_code': '9G7VVG7W+H4'},\n",
       "  'rating': 4.3,\n",
       "  'reference': 'ChIJj6blQZk3tUYRD51unxIEK7I',\n",
       "  'scope': 'GOOGLE',\n",
       "  'types': ['supermarket',\n",
       "   'grocery_or_supermarket',\n",
       "   'food',\n",
       "   'point_of_interest',\n",
       "   'store',\n",
       "   'establishment'],\n",
       "  'user_ratings_total': 534,\n",
       "  'vicinity': 'Дмитровское ш., 89, Москва'},\n",
       " {'business_status': 'OPERATIONAL',\n",
       "  'geometry': {'location': {'lat': 55.8864096, 'lng': 37.5063583},\n",
       "   'viewport': {'northeast': {'lat': 55.88775942989272,\n",
       "     'lng': 37.50770812989272},\n",
       "    'southwest': {'lat': 55.88505977010728, 'lng': 37.50500847010727}}},\n",
       "  'icon': 'https://maps.gstatic.com/mapfiles/place_api/icons/v1/png_71/generic_business-71.png',\n",
       "  'name': 'Рыба | Креветки | Морепродукты',\n",
       "  'place_id': 'ChIJ0cKUycw5tUYR8sgl_VeXNMs',\n",
       "  'plus_code': {'compound_code': 'VGP4+HG р-н Западное Дегунино, Москва',\n",
       "   'global_code': '9G7VVGP4+HG'},\n",
       "  'rating': 0,\n",
       "  'reference': 'ChIJ0cKUycw5tUYR8sgl_VeXNMs',\n",
       "  'scope': 'GOOGLE',\n",
       "  'types': ['point_of_interest', 'establishment'],\n",
       "  'user_ratings_total': 0,\n",
       "  'vicinity': 'Ижорская ул., д.7, Москва'}]"
      ]
     },
     "execution_count": 72,
     "metadata": {},
     "output_type": "execute_result"
    }
   ],
   "source": [
    "response = requests.get(final_url)\n",
    "\n",
    "response.json()['results']"
   ]
  },
  {
   "cell_type": "code",
   "execution_count": null,
   "id": "29112dfe-628f-473d-acd9-dbaafa491f6e",
   "metadata": {},
   "outputs": [],
   "source": []
  }
 ],
 "metadata": {
  "kernelspec": {
   "display_name": "py36_std_env",
   "language": "python",
   "name": "py36_std_env"
  },
  "language_info": {
   "codemirror_mode": {
    "name": "ipython",
    "version": 3
   },
   "file_extension": ".py",
   "mimetype": "text/x-python",
   "name": "python",
   "nbconvert_exporter": "python",
   "pygments_lexer": "ipython3",
   "version": "3.6.13"
  }
 },
 "nbformat": 4,
 "nbformat_minor": 5
}
